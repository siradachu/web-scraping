{
 "cells": [
  {
   "cell_type": "markdown",
   "metadata": {},
   "source": [
    "# IMDb Scraping"
   ]
  },
  {
   "cell_type": "code",
   "execution_count": 3,
   "metadata": {},
   "outputs": [],
   "source": [
    "import pandas as pd\n",
    "from selenium import webdriver\n",
    "\n",
    "from selenium.webdriver.common.by import By\n",
    "from selenium.webdriver.support.ui import WebDriverWait\n",
    "from selenium.webdriver.support import expected_conditions as EC\n",
    "from selenium.common.exceptions import TimeoutException \n",
    "from webdriver_manager.chrome import ChromeDriverManager\n",
    "from selenium.webdriver.chrome.options import Options\n",
    "\n",
    "from bs4 import BeautifulSoup\n",
    "import requests\n",
    "import time\n",
    "import re"
   ]
  },
  {
   "cell_type": "code",
   "execution_count": 6,
   "metadata": {},
   "outputs": [],
   "source": [
    "# ratings container\n",
    "# rating tags\n",
    "\n",
    "# title\n",
    "# year\n",
    "# critics rating\n",
    "# metascore\n",
    "# vote\n",
    "# director\n",
    "# genre\n",
    "# gross worldwide\n",
    "# motion picture rating (MPAA)\n",
    "\n",
    "def scrape_imdb():\n",
    "    MAX_DELAY = 15\n",
    "    MAX_NUMBER_OF_TITLES = 252\n",
    "\n",
    "    path = ChromeDriverManager().install() # install latest driver (returns path of the installed driver)\n",
    "\n",
    "    driver = webdriver.Chrome(executable_path=path)\n",
    "\n",
    "    titles = []\n",
    "    years = []\n",
    "    critics_ratings = []\n",
    "    metascore_ratings  = []\n",
    "    votes = []\n",
    "    directors = []\n",
    "    genres  = []\n",
    "    gross_worldwide = []\n",
    "    mpaa_ratings = []\n",
    "\n",
    "    x = 1\n",
    "    while x < MAX_NUMBER_OF_TITLES:\n",
    "        # ---------- Scraping one IMDB page ---------- #\n",
    "        # parameters in url begin with ?, are assigned by parameter=value, and are separated by &\n",
    "        # url = \"https://www.imdb.com/search/title/?year=2001&start=\" + str(x) + \"&title_type=feature\"\n",
    "        url = f\"https://www.imdb.com/search/title/?release_date=2000-01-01%2C2021-12-31&groups=top_250&start={x}&ref_=adv_nxt\"\n",
    "        print(url) # printing as a sanity check\n",
    "        driver.get(url)\n",
    "        try:\n",
    "            WebDriverWait(driver, MAX_DELAY).until(EC.presence_of_element_located((By.CLASS_NAME, \"pagecontent\")))\n",
    "        except TimeoutException:\n",
    "            print('Loading exceeds delay time')\n",
    "\n",
    "        soup = BeautifulSoup(driver.page_source, \"html.parser\")\n",
    "\n",
    "        # ---------- find container of rating tags ---------- #\n",
    "        rating_container = soup.find(\"div\", class_=\"pagecontent\")\n",
    "\n",
    "        # ---------- find all rating tags ---------- #\n",
    "        rating_tags = rating_container.findAll(\"div\", class_=\"lister-item\")\n",
    "\n",
    "        # ---------- for each tag in rating tags ---------- #\n",
    "        for rating_tag in rating_tags:\n",
    "            # parse each tag and append data into lists\n",
    "            # ---------- Scraping one rating cell ---------- #\n",
    "            title = get_title(rating_tag)\n",
    "\n",
    "            year_tag = rating_tag.find(\"span\", class_=\"lister-item-year\")\n",
    "            year_name = year_tag.text.strip()\n",
    "            year_re = re.search(\"((.*))\", year_name)\n",
    "            year = year_re.group().replace(\"(\",\"\").replace(\")\",\"\").replace(\"I\", \"\")\n",
    "            year\n",
    "\n",
    "            critics_rating_tag = rating_tag.find(\"div\", class_=\"ratings-imdb-rating\")\n",
    "            rating = critics_rating_tag.find(\"strong\").text.strip()\n",
    "\n",
    "            try:\n",
    "                metascore_tag = rating_tag.find(\"div\", class_=\"ratings-metascore\")\n",
    "                metascore = metascore_tag.find(\"span\").text.strip()\n",
    "            except AttributeError:\n",
    "                metascore = None\n",
    "\n",
    "            vote_tag = rating_tag.find(\"p\", class_=\"sort-num_votes-visible\")\n",
    "            vote = vote_tag.text.split()[1]\n",
    "\n",
    "            director_tag = rating_tag.find(\"p\", {\"class\": ''})\n",
    "            director_name = director_tag.text.strip()            \n",
    "            directors_re = re.search((\"Director:\\n(.*)\\n|\"), director_name)\n",
    "            director = directors_re.group().replace(\"Director:\", \"\").strip()\n",
    "            director\n",
    "\n",
    "            genre_tag = rating_tag.find(\"span\", class_=\"genre\")\n",
    "            genre = genre_tag.text.strip()\n",
    "\n",
    "            # ---------- scraping gross ---------- #\n",
    "            try:\n",
    "                numbers_tag = rating_tag.find(\"p\", class_=\"sort-num_votes-visible\")\n",
    "                list_of_words = numbers_tag.text.split()\n",
    "                # Find index of word \"Gross:\"\n",
    "                index_of_gross = list_of_words.index(\"Gross:\")\n",
    "                # Find word after \"Gross:\"\n",
    "                gross = list_of_words[index_of_gross + 1]\n",
    "                gross = gross.replace(\"$\", \"\").replace(\"M\", \"\")\n",
    "                gross_in_millions = float(gross)\n",
    "            except ValueError: # catching error when \"Gross:\" is missing\n",
    "                gross_in_millions = None\n",
    "\n",
    "            try:\n",
    "                mpaa_rating_tag = rating_tag.find(\"span\", class_=\"certificate\")\n",
    "                mpaa_rating = mpaa_rating_tag.text.strip()\n",
    "            except AttributeError:\n",
    "                mpaa_rating = None\n",
    "\n",
    "            titles.append(title)\n",
    "            years.append(year)\n",
    "            critics_ratings.append(rating)\n",
    "            metascore_ratings.append(metascore)\n",
    "            votes.append(vote)\n",
    "            directors.append(director)\n",
    "            genres.append(genre)\n",
    "            gross_worldwide.append(gross_in_millions)\n",
    "            mpaa_ratings.append(mpaa_rating)\n",
    "            # ---------- End of scraping one rating cell ---------- #\n",
    "        x = x + 50\n",
    "        # ---------- End of scraping one IMDB page ---------- #\n",
    "\n",
    "    # ---------- Don't forget to close driver after not using it anymore ---------- #\n",
    "    driver.close()\n",
    "\n",
    "    # ---------- Turn lists into data frame ---------- #\n",
    "    df = pd.DataFrame(\n",
    "        {\n",
    "            \"Title\": titles,\n",
    "            \"Year\": years,\n",
    "            \"Critics rating\": critics_ratings,\n",
    "            \"Metascore\": metascore_ratings,\n",
    "            \"Vote\" : votes,\n",
    "            \"Director\" : directors,\n",
    "            \"Genre\": genres,\n",
    "            \"Gross [millions]\": gross_worldwide,\n",
    "            \"Motion picture rating (MPAA)\": mpaa_ratings,\n",
    "        }\n",
    "    )\n",
    "    return df\n",
    "\n",
    "def get_title(rating_tag):\n",
    "    header = rating_tag.find(\"h3\", class_=\"lister-item-header\")\n",
    "    title = header.find(\"a\").text.strip()\n",
    "    return title"
   ]
  },
  {
   "cell_type": "code",
   "execution_count": 8,
   "metadata": {},
   "outputs": [
    {
     "name": "stderr",
     "output_type": "stream",
     "text": [
      "\n",
      "\n",
      "====== WebDriver manager ======\n",
      "Current google-chrome version is 95.0.4638\n",
      "Get LATEST chromedriver version for 95.0.4638 google-chrome\n",
      "Driver [/Users/sirada/.wdm/drivers/chromedriver/mac64/95.0.4638.69/chromedriver] found in cache\n",
      "/var/folders/xp/zc4qhs5d3qjflf699hyhzsjr0000gn/T/ipykernel_86692/3352605471.py:20: DeprecationWarning: executable_path has been deprecated, please pass in a Service object\n",
      "  driver = webdriver.Chrome(executable_path=path)\n"
     ]
    },
    {
     "name": "stdout",
     "output_type": "stream",
     "text": [
      "https://www.imdb.com/search/title/?release_date=2000-01-01%2C2021-12-31&groups=top_250&start=1&ref_=adv_nxt\n",
      "https://www.imdb.com/search/title/?release_date=2000-01-01%2C2021-12-31&groups=top_250&start=51&ref_=adv_nxt\n",
      "https://www.imdb.com/search/title/?release_date=2000-01-01%2C2021-12-31&groups=top_250&start=101&ref_=adv_nxt\n",
      "https://www.imdb.com/search/title/?release_date=2000-01-01%2C2021-12-31&groups=top_250&start=151&ref_=adv_nxt\n",
      "https://www.imdb.com/search/title/?release_date=2000-01-01%2C2021-12-31&groups=top_250&start=201&ref_=adv_nxt\n",
      "https://www.imdb.com/search/title/?release_date=2000-01-01%2C2021-12-31&groups=top_250&start=251&ref_=adv_nxt\n"
     ]
    },
    {
     "data": {
      "text/html": [
       "<div>\n",
       "<style scoped>\n",
       "    .dataframe tbody tr th:only-of-type {\n",
       "        vertical-align: middle;\n",
       "    }\n",
       "\n",
       "    .dataframe tbody tr th {\n",
       "        vertical-align: top;\n",
       "    }\n",
       "\n",
       "    .dataframe thead th {\n",
       "        text-align: right;\n",
       "    }\n",
       "</style>\n",
       "<table border=\"1\" class=\"dataframe\">\n",
       "  <thead>\n",
       "    <tr style=\"text-align: right;\">\n",
       "      <th></th>\n",
       "      <th>Title</th>\n",
       "      <th>Year</th>\n",
       "      <th>Critics rating</th>\n",
       "      <th>Metascore</th>\n",
       "      <th>Vote</th>\n",
       "      <th>Director</th>\n",
       "      <th>Genre</th>\n",
       "      <th>Gross [millions]</th>\n",
       "      <th>Motion picture rating (MPAA)</th>\n",
       "    </tr>\n",
       "  </thead>\n",
       "  <tbody>\n",
       "    <tr>\n",
       "      <th>0</th>\n",
       "      <td>Dune</td>\n",
       "      <td>2021</td>\n",
       "      <td>8.2</td>\n",
       "      <td>74</td>\n",
       "      <td>309,945</td>\n",
       "      <td>Denis Villeneuve</td>\n",
       "      <td>Action, Adventure, Drama</td>\n",
       "      <td>NaN</td>\n",
       "      <td>PG-13</td>\n",
       "    </tr>\n",
       "    <tr>\n",
       "      <th>1</th>\n",
       "      <td>Jai Bhim</td>\n",
       "      <td>2021</td>\n",
       "      <td>9.6</td>\n",
       "      <td>None</td>\n",
       "      <td>81,283</td>\n",
       "      <td>T.J. Gnanavel</td>\n",
       "      <td>Crime, Drama</td>\n",
       "      <td>NaN</td>\n",
       "      <td>None</td>\n",
       "    </tr>\n",
       "    <tr>\n",
       "      <th>2</th>\n",
       "      <td>V for Vendetta</td>\n",
       "      <td>2005</td>\n",
       "      <td>8.1</td>\n",
       "      <td>62</td>\n",
       "      <td>1,073,683</td>\n",
       "      <td>James McTeigue</td>\n",
       "      <td>Action, Drama, Sci-Fi</td>\n",
       "      <td>70.51</td>\n",
       "      <td>R</td>\n",
       "    </tr>\n",
       "    <tr>\n",
       "      <th>3</th>\n",
       "      <td>Interstellar</td>\n",
       "      <td>2014</td>\n",
       "      <td>8.6</td>\n",
       "      <td>74</td>\n",
       "      <td>1,637,457</td>\n",
       "      <td>Christopher Nolan</td>\n",
       "      <td>Adventure, Drama, Sci-Fi</td>\n",
       "      <td>188.02</td>\n",
       "      <td>PG-13</td>\n",
       "    </tr>\n",
       "    <tr>\n",
       "      <th>4</th>\n",
       "      <td>Joker</td>\n",
       "      <td>2019</td>\n",
       "      <td>8.4</td>\n",
       "      <td>59</td>\n",
       "      <td>1,092,119</td>\n",
       "      <td>Todd Phillips</td>\n",
       "      <td>Crime, Drama, Thriller</td>\n",
       "      <td>335.45</td>\n",
       "      <td>R</td>\n",
       "    </tr>\n",
       "  </tbody>\n",
       "</table>\n",
       "</div>"
      ],
      "text/plain": [
       "            Title  Year Critics rating Metascore       Vote  \\\n",
       "0            Dune  2021            8.2        74    309,945   \n",
       "1        Jai Bhim  2021            9.6      None     81,283   \n",
       "2  V for Vendetta  2005            8.1        62  1,073,683   \n",
       "3    Interstellar  2014            8.6        74  1,637,457   \n",
       "4           Joker  2019            8.4        59  1,092,119   \n",
       "\n",
       "            Director                     Genre  Gross [millions]  \\\n",
       "0   Denis Villeneuve  Action, Adventure, Drama               NaN   \n",
       "1      T.J. Gnanavel              Crime, Drama               NaN   \n",
       "2     James McTeigue     Action, Drama, Sci-Fi             70.51   \n",
       "3  Christopher Nolan  Adventure, Drama, Sci-Fi            188.02   \n",
       "4      Todd Phillips    Crime, Drama, Thriller            335.45   \n",
       "\n",
       "  Motion picture rating (MPAA)  \n",
       "0                        PG-13  \n",
       "1                         None  \n",
       "2                            R  \n",
       "3                        PG-13  \n",
       "4                            R  "
      ]
     },
     "execution_count": 8,
     "metadata": {},
     "output_type": "execute_result"
    }
   ],
   "source": [
    "df = scrape_imdb()\n",
    "df.head()"
   ]
  },
  {
   "cell_type": "code",
   "execution_count": 57,
   "metadata": {},
   "outputs": [
    {
     "name": "stderr",
     "output_type": "stream",
     "text": [
      "\n",
      "\n",
      "====== WebDriver manager ======\n",
      "Current google-chrome version is 95.0.4638\n",
      "Get LATEST chromedriver version for 95.0.4638 google-chrome\n",
      "Driver [/Users/sirada/.wdm/drivers/chromedriver/mac64/95.0.4638.69/chromedriver] found in cache\n",
      "/var/folders/xp/zc4qhs5d3qjflf699hyhzsjr0000gn/T/ipykernel_83553/3352605471.py:20: DeprecationWarning: executable_path has been deprecated, please pass in a Service object\n",
      "  driver = webdriver.Chrome(executable_path=path)\n"
     ]
    },
    {
     "name": "stdout",
     "output_type": "stream",
     "text": [
      "https://www.imdb.com/search/title/?release_date=2000-01-01%2C2021-12-31&groups=top_250&start=1&ref_=adv_nxt\n",
      "https://www.imdb.com/search/title/?release_date=2000-01-01%2C2021-12-31&groups=top_250&start=51&ref_=adv_nxt\n",
      "https://www.imdb.com/search/title/?release_date=2000-01-01%2C2021-12-31&groups=top_250&start=101&ref_=adv_nxt\n",
      "https://www.imdb.com/search/title/?release_date=2000-01-01%2C2021-12-31&groups=top_250&start=151&ref_=adv_nxt\n",
      "https://www.imdb.com/search/title/?release_date=2000-01-01%2C2021-12-31&groups=top_250&start=201&ref_=adv_nxt\n",
      "https://www.imdb.com/search/title/?release_date=2000-01-01%2C2021-12-31&groups=top_250&start=251&ref_=adv_nxt\n"
     ]
    }
   ],
   "source": [
    "df.to_csv('IMDbMovies.csv')"
   ]
  },
  {
   "cell_type": "markdown",
   "metadata": {},
   "source": [
    "# Data pre-porcessing"
   ]
  },
  {
   "cell_type": "code",
   "execution_count": 58,
   "metadata": {},
   "outputs": [
    {
     "data": {
      "text/html": [
       "<div>\n",
       "<style scoped>\n",
       "    .dataframe tbody tr th:only-of-type {\n",
       "        vertical-align: middle;\n",
       "    }\n",
       "\n",
       "    .dataframe tbody tr th {\n",
       "        vertical-align: top;\n",
       "    }\n",
       "\n",
       "    .dataframe thead th {\n",
       "        text-align: right;\n",
       "    }\n",
       "</style>\n",
       "<table border=\"1\" class=\"dataframe\">\n",
       "  <thead>\n",
       "    <tr style=\"text-align: right;\">\n",
       "      <th></th>\n",
       "      <th>Title</th>\n",
       "      <th>Year</th>\n",
       "      <th>Critics rating</th>\n",
       "      <th>Metascore</th>\n",
       "      <th>Vote</th>\n",
       "      <th>Director</th>\n",
       "      <th>Genre</th>\n",
       "      <th>Gross [millions]</th>\n",
       "      <th>Motion picture rating (MPAA)</th>\n",
       "    </tr>\n",
       "  </thead>\n",
       "  <tbody>\n",
       "    <tr>\n",
       "      <th>0</th>\n",
       "      <td>Dune</td>\n",
       "      <td>2021</td>\n",
       "      <td>8.2</td>\n",
       "      <td>74</td>\n",
       "      <td>308,871</td>\n",
       "      <td>Denis Villeneuve</td>\n",
       "      <td>Action, Adventure, Drama</td>\n",
       "      <td>NaN</td>\n",
       "      <td>PG-13</td>\n",
       "    </tr>\n",
       "    <tr>\n",
       "      <th>1</th>\n",
       "      <td>Jai Bhim</td>\n",
       "      <td>2021</td>\n",
       "      <td>9.6</td>\n",
       "      <td>None</td>\n",
       "      <td>80,472</td>\n",
       "      <td>T.J. Gnanavel</td>\n",
       "      <td>Crime, Drama</td>\n",
       "      <td>NaN</td>\n",
       "      <td>None</td>\n",
       "    </tr>\n",
       "    <tr>\n",
       "      <th>2</th>\n",
       "      <td>V for Vendetta</td>\n",
       "      <td>2005</td>\n",
       "      <td>8.1</td>\n",
       "      <td>62</td>\n",
       "      <td>1,073,589</td>\n",
       "      <td>James McTeigue</td>\n",
       "      <td>Action, Drama, Sci-Fi</td>\n",
       "      <td>70.51</td>\n",
       "      <td>R</td>\n",
       "    </tr>\n",
       "    <tr>\n",
       "      <th>3</th>\n",
       "      <td>Interstellar</td>\n",
       "      <td>2014</td>\n",
       "      <td>8.6</td>\n",
       "      <td>74</td>\n",
       "      <td>1,637,183</td>\n",
       "      <td>Christopher Nolan</td>\n",
       "      <td>Adventure, Drama, Sci-Fi</td>\n",
       "      <td>188.02</td>\n",
       "      <td>PG-13</td>\n",
       "    </tr>\n",
       "    <tr>\n",
       "      <th>4</th>\n",
       "      <td>Joker</td>\n",
       "      <td>2019</td>\n",
       "      <td>8.4</td>\n",
       "      <td>59</td>\n",
       "      <td>1,092,036</td>\n",
       "      <td>Todd Phillips</td>\n",
       "      <td>Crime, Drama, Thriller</td>\n",
       "      <td>335.45</td>\n",
       "      <td>R</td>\n",
       "    </tr>\n",
       "    <tr>\n",
       "      <th>5</th>\n",
       "      <td>Coco</td>\n",
       "      <td>2017</td>\n",
       "      <td>8.4</td>\n",
       "      <td>81</td>\n",
       "      <td>439,918</td>\n",
       "      <td></td>\n",
       "      <td>Animation, Adventure, Comedy</td>\n",
       "      <td>209.73</td>\n",
       "      <td>PG</td>\n",
       "    </tr>\n",
       "    <tr>\n",
       "      <th>6</th>\n",
       "      <td>Avengers: Endgame</td>\n",
       "      <td>2019</td>\n",
       "      <td>8.4</td>\n",
       "      <td>78</td>\n",
       "      <td>958,426</td>\n",
       "      <td></td>\n",
       "      <td>Action, Adventure, Drama</td>\n",
       "      <td>858.37</td>\n",
       "      <td>PG-13</td>\n",
       "    </tr>\n",
       "    <tr>\n",
       "      <th>7</th>\n",
       "      <td>Parasite</td>\n",
       "      <td>2019</td>\n",
       "      <td>8.6</td>\n",
       "      <td>96</td>\n",
       "      <td>680,042</td>\n",
       "      <td>Bong Joon Ho</td>\n",
       "      <td>Comedy, Drama, Thriller</td>\n",
       "      <td>53.37</td>\n",
       "      <td>R</td>\n",
       "    </tr>\n",
       "    <tr>\n",
       "      <th>8</th>\n",
       "      <td>The Wolf of Wall Street</td>\n",
       "      <td>2013</td>\n",
       "      <td>8.2</td>\n",
       "      <td>75</td>\n",
       "      <td>1,279,983</td>\n",
       "      <td>Martin Scorsese</td>\n",
       "      <td>Biography, Comedy, Crime</td>\n",
       "      <td>116.90</td>\n",
       "      <td>R</td>\n",
       "    </tr>\n",
       "    <tr>\n",
       "      <th>9</th>\n",
       "      <td>Prisoners</td>\n",
       "      <td>2013</td>\n",
       "      <td>8.1</td>\n",
       "      <td>70</td>\n",
       "      <td>646,708</td>\n",
       "      <td>Denis Villeneuve</td>\n",
       "      <td>Crime, Drama, Mystery</td>\n",
       "      <td>61.00</td>\n",
       "      <td>R</td>\n",
       "    </tr>\n",
       "  </tbody>\n",
       "</table>\n",
       "</div>"
      ],
      "text/plain": [
       "                     Title   Year Critics rating Metascore       Vote  \\\n",
       "0                     Dune   2021            8.2        74    308,871   \n",
       "1                 Jai Bhim   2021            9.6      None     80,472   \n",
       "2           V for Vendetta   2005            8.1        62  1,073,589   \n",
       "3             Interstellar   2014            8.6        74  1,637,183   \n",
       "4                    Joker   2019            8.4        59  1,092,036   \n",
       "5                     Coco   2017            8.4        81    439,918   \n",
       "6        Avengers: Endgame   2019            8.4        78    958,426   \n",
       "7                 Parasite   2019            8.6        96    680,042   \n",
       "8  The Wolf of Wall Street   2013            8.2        75  1,279,983   \n",
       "9                Prisoners   2013            8.1        70    646,708   \n",
       "\n",
       "            Director                         Genre  Gross [millions]  \\\n",
       "0   Denis Villeneuve      Action, Adventure, Drama               NaN   \n",
       "1      T.J. Gnanavel                  Crime, Drama               NaN   \n",
       "2     James McTeigue         Action, Drama, Sci-Fi             70.51   \n",
       "3  Christopher Nolan      Adventure, Drama, Sci-Fi            188.02   \n",
       "4      Todd Phillips        Crime, Drama, Thriller            335.45   \n",
       "5                     Animation, Adventure, Comedy            209.73   \n",
       "6                         Action, Adventure, Drama            858.37   \n",
       "7       Bong Joon Ho       Comedy, Drama, Thriller             53.37   \n",
       "8    Martin Scorsese      Biography, Comedy, Crime            116.90   \n",
       "9   Denis Villeneuve         Crime, Drama, Mystery             61.00   \n",
       "\n",
       "  Motion picture rating (MPAA)  \n",
       "0                        PG-13  \n",
       "1                         None  \n",
       "2                            R  \n",
       "3                        PG-13  \n",
       "4                            R  \n",
       "5                           PG  \n",
       "6                        PG-13  \n",
       "7                            R  \n",
       "8                            R  \n",
       "9                            R  "
      ]
     },
     "execution_count": 58,
     "metadata": {},
     "output_type": "execute_result"
    }
   ],
   "source": [
    "df.head(10)"
   ]
  },
  {
   "cell_type": "code",
   "execution_count": 68,
   "metadata": {},
   "outputs": [],
   "source": [
    "# multiple director names are not able to be scraped so we will mannually fill in\n",
    "\n",
    "# Coco\n",
    "df.loc[5, 'Director'] = 'Adrian Molina, Lee Unkrich'\n",
    "\n",
    "# Avengers Endgame\n",
    "df.loc[6, 'Director'] = \"Joe Russo, Anthony Russo\" \n",
    "\n",
    "# Avengers infinity war\n",
    "df.loc[23, 'Director'] = 'Joe Russo, Anthony Russo'\n",
    "\n",
    "# No Country for Old Men\n",
    "df.loc[26, 'Director'] = 'Ethan Coen, Joel Coen'\n",
    "\n",
    "# Spider Man: into spider-verse\n",
    "df.loc[33, 'Director'] = 'Peter Ramsey, Bob Persichetti, Rodney Rothman'\n",
    "\n",
    "# Monsters inc\n",
    "df.loc[51, 'Director'] = 'Pete Docter, David Silverman, Lee Unkrich'\n",
    "\n",
    "# City of God\n",
    "df.loc[54, 'Director'] = 'Fernando Meirelles, Kátia Lund'\n",
    "\n",
    "# Untouchable\n",
    "df.loc[56, 'Director'] = 'Olivier Nakache, Éric Toledano'\n",
    "\n",
    "# Inside out\n",
    "df.loc[57, 'Director'] = 'Pete Docter, Ronnie Del Carmen'\n",
    "\n",
    "# up\n",
    "df.loc[66, 'Director'] = 'Pete Docter, Bob Peterson'\n",
    "\n",
    "# nemo\n",
    "df.loc[70, 'Director'] = 'Andrew Stanton, Lee Unkrich'\n",
    "\n",
    "# train your dragon\n",
    "df.loc[78, 'Director'] = ' Dean DeBlois, Chris Sanders'\n",
    "\n",
    "# klaus\n",
    "df.loc[80, 'Director'] = 'Sergio Pablos, Carlos Martínez López '\n",
    "\n",
    "# stars on earth\n",
    "df.loc[91, 'Director'] = 'Amir Khan, Amole Gupte'"
   ]
  },
  {
   "cell_type": "code",
   "execution_count": 70,
   "metadata": {},
   "outputs": [
    {
     "data": {
      "text/html": [
       "<div>\n",
       "<style scoped>\n",
       "    .dataframe tbody tr th:only-of-type {\n",
       "        vertical-align: middle;\n",
       "    }\n",
       "\n",
       "    .dataframe tbody tr th {\n",
       "        vertical-align: top;\n",
       "    }\n",
       "\n",
       "    .dataframe thead th {\n",
       "        text-align: right;\n",
       "    }\n",
       "</style>\n",
       "<table border=\"1\" class=\"dataframe\">\n",
       "  <thead>\n",
       "    <tr style=\"text-align: right;\">\n",
       "      <th></th>\n",
       "      <th>Title</th>\n",
       "      <th>Year</th>\n",
       "      <th>Critics rating</th>\n",
       "      <th>Metascore</th>\n",
       "      <th>Vote</th>\n",
       "      <th>Director</th>\n",
       "      <th>Genre</th>\n",
       "      <th>Gross [millions]</th>\n",
       "      <th>Motion picture rating (MPAA)</th>\n",
       "    </tr>\n",
       "  </thead>\n",
       "  <tbody>\n",
       "    <tr>\n",
       "      <th>0</th>\n",
       "      <td>Dune</td>\n",
       "      <td>2021</td>\n",
       "      <td>8.2</td>\n",
       "      <td>74</td>\n",
       "      <td>308,871</td>\n",
       "      <td>Denis Villeneuve</td>\n",
       "      <td>Action, Adventure, Drama</td>\n",
       "      <td>NaN</td>\n",
       "      <td>PG-13</td>\n",
       "    </tr>\n",
       "    <tr>\n",
       "      <th>1</th>\n",
       "      <td>Jai Bhim</td>\n",
       "      <td>2021</td>\n",
       "      <td>9.6</td>\n",
       "      <td>None</td>\n",
       "      <td>80,472</td>\n",
       "      <td>T.J. Gnanavel</td>\n",
       "      <td>Crime, Drama</td>\n",
       "      <td>NaN</td>\n",
       "      <td>None</td>\n",
       "    </tr>\n",
       "    <tr>\n",
       "      <th>2</th>\n",
       "      <td>V for Vendetta</td>\n",
       "      <td>2005</td>\n",
       "      <td>8.1</td>\n",
       "      <td>62</td>\n",
       "      <td>1,073,589</td>\n",
       "      <td>James McTeigue</td>\n",
       "      <td>Action, Drama, Sci-Fi</td>\n",
       "      <td>70.51</td>\n",
       "      <td>R</td>\n",
       "    </tr>\n",
       "    <tr>\n",
       "      <th>3</th>\n",
       "      <td>Interstellar</td>\n",
       "      <td>2014</td>\n",
       "      <td>8.6</td>\n",
       "      <td>74</td>\n",
       "      <td>1,637,183</td>\n",
       "      <td>Christopher Nolan</td>\n",
       "      <td>Adventure, Drama, Sci-Fi</td>\n",
       "      <td>188.02</td>\n",
       "      <td>PG-13</td>\n",
       "    </tr>\n",
       "    <tr>\n",
       "      <th>4</th>\n",
       "      <td>Joker</td>\n",
       "      <td>2019</td>\n",
       "      <td>8.4</td>\n",
       "      <td>59</td>\n",
       "      <td>1,092,036</td>\n",
       "      <td>Todd Phillips</td>\n",
       "      <td>Crime, Drama, Thriller</td>\n",
       "      <td>335.45</td>\n",
       "      <td>R</td>\n",
       "    </tr>\n",
       "    <tr>\n",
       "      <th>5</th>\n",
       "      <td>Coco</td>\n",
       "      <td>2017</td>\n",
       "      <td>8.4</td>\n",
       "      <td>81</td>\n",
       "      <td>439,918</td>\n",
       "      <td>Adrian Molina, Lee Unkrich</td>\n",
       "      <td>Animation, Adventure, Comedy</td>\n",
       "      <td>209.73</td>\n",
       "      <td>PG</td>\n",
       "    </tr>\n",
       "    <tr>\n",
       "      <th>6</th>\n",
       "      <td>Avengers: Endgame</td>\n",
       "      <td>2019</td>\n",
       "      <td>8.4</td>\n",
       "      <td>78</td>\n",
       "      <td>958,426</td>\n",
       "      <td>Joe Russo, Anthony Russo</td>\n",
       "      <td>Action, Adventure, Drama</td>\n",
       "      <td>858.37</td>\n",
       "      <td>PG-13</td>\n",
       "    </tr>\n",
       "    <tr>\n",
       "      <th>7</th>\n",
       "      <td>Parasite</td>\n",
       "      <td>2019</td>\n",
       "      <td>8.6</td>\n",
       "      <td>96</td>\n",
       "      <td>680,042</td>\n",
       "      <td>Bong Joon Ho</td>\n",
       "      <td>Comedy, Drama, Thriller</td>\n",
       "      <td>53.37</td>\n",
       "      <td>R</td>\n",
       "    </tr>\n",
       "    <tr>\n",
       "      <th>8</th>\n",
       "      <td>The Wolf of Wall Street</td>\n",
       "      <td>2013</td>\n",
       "      <td>8.2</td>\n",
       "      <td>75</td>\n",
       "      <td>1,279,983</td>\n",
       "      <td>Martin Scorsese</td>\n",
       "      <td>Biography, Comedy, Crime</td>\n",
       "      <td>116.90</td>\n",
       "      <td>R</td>\n",
       "    </tr>\n",
       "    <tr>\n",
       "      <th>9</th>\n",
       "      <td>Prisoners</td>\n",
       "      <td>2013</td>\n",
       "      <td>8.1</td>\n",
       "      <td>70</td>\n",
       "      <td>646,708</td>\n",
       "      <td>Denis Villeneuve</td>\n",
       "      <td>Crime, Drama, Mystery</td>\n",
       "      <td>61.00</td>\n",
       "      <td>R</td>\n",
       "    </tr>\n",
       "    <tr>\n",
       "      <th>10</th>\n",
       "      <td>The Dark Knight</td>\n",
       "      <td>2008</td>\n",
       "      <td>9.0</td>\n",
       "      <td>84</td>\n",
       "      <td>2,439,902</td>\n",
       "      <td>Christopher Nolan</td>\n",
       "      <td>Action, Crime, Drama</td>\n",
       "      <td>534.86</td>\n",
       "      <td>PG-13</td>\n",
       "    </tr>\n",
       "    <tr>\n",
       "      <th>11</th>\n",
       "      <td>1917</td>\n",
       "      <td>2019</td>\n",
       "      <td>8.3</td>\n",
       "      <td>78</td>\n",
       "      <td>504,229</td>\n",
       "      <td>Sam Mendes</td>\n",
       "      <td>Action, Drama, War</td>\n",
       "      <td>159.23</td>\n",
       "      <td>R</td>\n",
       "    </tr>\n",
       "    <tr>\n",
       "      <th>12</th>\n",
       "      <td>The Lord of the Rings: The Fellowship of the Ring</td>\n",
       "      <td>2001</td>\n",
       "      <td>8.8</td>\n",
       "      <td>92</td>\n",
       "      <td>1,742,957</td>\n",
       "      <td>Peter Jackson</td>\n",
       "      <td>Action, Adventure, Drama</td>\n",
       "      <td>315.54</td>\n",
       "      <td>PG-13</td>\n",
       "    </tr>\n",
       "    <tr>\n",
       "      <th>13</th>\n",
       "      <td>Inception</td>\n",
       "      <td>2010</td>\n",
       "      <td>8.8</td>\n",
       "      <td>74</td>\n",
       "      <td>2,189,530</td>\n",
       "      <td>Christopher Nolan</td>\n",
       "      <td>Action, Adventure, Sci-Fi</td>\n",
       "      <td>292.58</td>\n",
       "      <td>PG-13</td>\n",
       "    </tr>\n",
       "    <tr>\n",
       "      <th>14</th>\n",
       "      <td>Gladiator</td>\n",
       "      <td>2000</td>\n",
       "      <td>8.5</td>\n",
       "      <td>67</td>\n",
       "      <td>1,409,962</td>\n",
       "      <td>Ridley Scott</td>\n",
       "      <td>Action, Adventure, Drama</td>\n",
       "      <td>187.71</td>\n",
       "      <td>R</td>\n",
       "    </tr>\n",
       "    <tr>\n",
       "      <th>15</th>\n",
       "      <td>Harry Potter and the Deathly Hallows: Part 2</td>\n",
       "      <td>2011</td>\n",
       "      <td>8.1</td>\n",
       "      <td>85</td>\n",
       "      <td>809,424</td>\n",
       "      <td>David Yates</td>\n",
       "      <td>Adventure, Fantasy, Mystery</td>\n",
       "      <td>381.01</td>\n",
       "      <td>PG-13</td>\n",
       "    </tr>\n",
       "    <tr>\n",
       "      <th>16</th>\n",
       "      <td>The Grand Budapest Hotel</td>\n",
       "      <td>2014</td>\n",
       "      <td>8.1</td>\n",
       "      <td>88</td>\n",
       "      <td>752,499</td>\n",
       "      <td>Wes Anderson</td>\n",
       "      <td>Adventure, Comedy, Crime</td>\n",
       "      <td>59.10</td>\n",
       "      <td>R</td>\n",
       "    </tr>\n",
       "    <tr>\n",
       "      <th>17</th>\n",
       "      <td>Django Unchained</td>\n",
       "      <td>2012</td>\n",
       "      <td>8.4</td>\n",
       "      <td>81</td>\n",
       "      <td>1,440,312</td>\n",
       "      <td>Quentin Tarantino</td>\n",
       "      <td>Drama, Western</td>\n",
       "      <td>162.81</td>\n",
       "      <td>R</td>\n",
       "    </tr>\n",
       "    <tr>\n",
       "      <th>18</th>\n",
       "      <td>Inglourious Basterds</td>\n",
       "      <td>2009</td>\n",
       "      <td>8.3</td>\n",
       "      <td>69</td>\n",
       "      <td>1,344,765</td>\n",
       "      <td>Quentin Tarantino</td>\n",
       "      <td>Adventure, Drama, War</td>\n",
       "      <td>120.54</td>\n",
       "      <td>R</td>\n",
       "    </tr>\n",
       "    <tr>\n",
       "      <th>19</th>\n",
       "      <td>Gone Girl</td>\n",
       "      <td>2014</td>\n",
       "      <td>8.1</td>\n",
       "      <td>79</td>\n",
       "      <td>917,133</td>\n",
       "      <td>David Fincher</td>\n",
       "      <td>Drama, Mystery, Thriller</td>\n",
       "      <td>167.77</td>\n",
       "      <td>R</td>\n",
       "    </tr>\n",
       "  </tbody>\n",
       "</table>\n",
       "</div>"
      ],
      "text/plain": [
       "                                                Title   Year Critics rating  \\\n",
       "0                                                Dune   2021            8.2   \n",
       "1                                            Jai Bhim   2021            9.6   \n",
       "2                                      V for Vendetta   2005            8.1   \n",
       "3                                        Interstellar   2014            8.6   \n",
       "4                                               Joker   2019            8.4   \n",
       "5                                                Coco   2017            8.4   \n",
       "6                                   Avengers: Endgame   2019            8.4   \n",
       "7                                            Parasite   2019            8.6   \n",
       "8                             The Wolf of Wall Street   2013            8.2   \n",
       "9                                           Prisoners   2013            8.1   \n",
       "10                                    The Dark Knight   2008            9.0   \n",
       "11                                               1917   2019            8.3   \n",
       "12  The Lord of the Rings: The Fellowship of the Ring   2001            8.8   \n",
       "13                                          Inception   2010            8.8   \n",
       "14                                          Gladiator   2000            8.5   \n",
       "15       Harry Potter and the Deathly Hallows: Part 2   2011            8.1   \n",
       "16                           The Grand Budapest Hotel   2014            8.1   \n",
       "17                                   Django Unchained   2012            8.4   \n",
       "18                               Inglourious Basterds   2009            8.3   \n",
       "19                                          Gone Girl   2014            8.1   \n",
       "\n",
       "   Metascore       Vote                    Director  \\\n",
       "0         74    308,871            Denis Villeneuve   \n",
       "1       None     80,472               T.J. Gnanavel   \n",
       "2         62  1,073,589              James McTeigue   \n",
       "3         74  1,637,183           Christopher Nolan   \n",
       "4         59  1,092,036               Todd Phillips   \n",
       "5         81    439,918  Adrian Molina, Lee Unkrich   \n",
       "6         78    958,426    Joe Russo, Anthony Russo   \n",
       "7         96    680,042                Bong Joon Ho   \n",
       "8         75  1,279,983             Martin Scorsese   \n",
       "9         70    646,708            Denis Villeneuve   \n",
       "10        84  2,439,902           Christopher Nolan   \n",
       "11        78    504,229                  Sam Mendes   \n",
       "12        92  1,742,957               Peter Jackson   \n",
       "13        74  2,189,530           Christopher Nolan   \n",
       "14        67  1,409,962                Ridley Scott   \n",
       "15        85    809,424                 David Yates   \n",
       "16        88    752,499                Wes Anderson   \n",
       "17        81  1,440,312           Quentin Tarantino   \n",
       "18        69  1,344,765           Quentin Tarantino   \n",
       "19        79    917,133               David Fincher   \n",
       "\n",
       "                           Genre  Gross [millions]  \\\n",
       "0       Action, Adventure, Drama               NaN   \n",
       "1                   Crime, Drama               NaN   \n",
       "2          Action, Drama, Sci-Fi             70.51   \n",
       "3       Adventure, Drama, Sci-Fi            188.02   \n",
       "4         Crime, Drama, Thriller            335.45   \n",
       "5   Animation, Adventure, Comedy            209.73   \n",
       "6       Action, Adventure, Drama            858.37   \n",
       "7        Comedy, Drama, Thriller             53.37   \n",
       "8       Biography, Comedy, Crime            116.90   \n",
       "9          Crime, Drama, Mystery             61.00   \n",
       "10          Action, Crime, Drama            534.86   \n",
       "11            Action, Drama, War            159.23   \n",
       "12      Action, Adventure, Drama            315.54   \n",
       "13     Action, Adventure, Sci-Fi            292.58   \n",
       "14      Action, Adventure, Drama            187.71   \n",
       "15   Adventure, Fantasy, Mystery            381.01   \n",
       "16      Adventure, Comedy, Crime             59.10   \n",
       "17                Drama, Western            162.81   \n",
       "18         Adventure, Drama, War            120.54   \n",
       "19      Drama, Mystery, Thriller            167.77   \n",
       "\n",
       "   Motion picture rating (MPAA)  \n",
       "0                         PG-13  \n",
       "1                          None  \n",
       "2                             R  \n",
       "3                         PG-13  \n",
       "4                             R  \n",
       "5                            PG  \n",
       "6                         PG-13  \n",
       "7                             R  \n",
       "8                             R  \n",
       "9                             R  \n",
       "10                        PG-13  \n",
       "11                            R  \n",
       "12                        PG-13  \n",
       "13                        PG-13  \n",
       "14                            R  \n",
       "15                        PG-13  \n",
       "16                            R  \n",
       "17                            R  \n",
       "18                            R  \n",
       "19                            R  "
      ]
     },
     "execution_count": 70,
     "metadata": {},
     "output_type": "execute_result"
    }
   ],
   "source": [
    "# check the df again\n",
    "df.head(20)"
   ]
  },
  {
   "cell_type": "code",
   "execution_count": 80,
   "metadata": {},
   "outputs": [
    {
     "data": {
      "text/plain": [
       "Title                           96\n",
       "Year                            26\n",
       "Critics rating                  12\n",
       "Metascore                       37\n",
       "Vote                            96\n",
       "Director                        76\n",
       "Genre                           53\n",
       "Gross [millions]                85\n",
       "Motion picture rating (MPAA)     6\n",
       "dtype: int64"
      ]
     },
     "execution_count": 80,
     "metadata": {},
     "output_type": "execute_result"
    }
   ],
   "source": [
    "# to check if there's no single-value in each column\n",
    "df_unique_check = df.nunique()\n",
    "df_unique_check"
   ]
  },
  {
   "cell_type": "code",
   "execution_count": 10,
   "metadata": {},
   "outputs": [
    {
     "data": {
      "text/html": [
       "<div>\n",
       "<style scoped>\n",
       "    .dataframe tbody tr th:only-of-type {\n",
       "        vertical-align: middle;\n",
       "    }\n",
       "\n",
       "    .dataframe tbody tr th {\n",
       "        vertical-align: top;\n",
       "    }\n",
       "\n",
       "    .dataframe thead th {\n",
       "        text-align: right;\n",
       "    }\n",
       "</style>\n",
       "<table border=\"1\" class=\"dataframe\">\n",
       "  <thead>\n",
       "    <tr style=\"text-align: right;\">\n",
       "      <th></th>\n",
       "      <th>Title</th>\n",
       "      <th>Year</th>\n",
       "      <th>Critics rating</th>\n",
       "      <th>Metascore</th>\n",
       "      <th>Vote</th>\n",
       "      <th>Director</th>\n",
       "      <th>Genre</th>\n",
       "      <th>Gross [millions]</th>\n",
       "      <th>Motion picture rating (MPAA)</th>\n",
       "    </tr>\n",
       "  </thead>\n",
       "  <tbody>\n",
       "    <tr>\n",
       "      <th>0</th>\n",
       "      <td>Dune</td>\n",
       "      <td>2021</td>\n",
       "      <td>8.2</td>\n",
       "      <td>74</td>\n",
       "      <td>309,945</td>\n",
       "      <td>Denis Villeneuve</td>\n",
       "      <td>Action, Adventure, Drama</td>\n",
       "      <td>NaN</td>\n",
       "      <td>PG-13</td>\n",
       "    </tr>\n",
       "    <tr>\n",
       "      <th>1</th>\n",
       "      <td>Jai Bhim</td>\n",
       "      <td>2021</td>\n",
       "      <td>9.6</td>\n",
       "      <td>None</td>\n",
       "      <td>81,283</td>\n",
       "      <td>T.J. Gnanavel</td>\n",
       "      <td>Crime, Drama</td>\n",
       "      <td>NaN</td>\n",
       "      <td>None</td>\n",
       "    </tr>\n",
       "    <tr>\n",
       "      <th>20</th>\n",
       "      <td>The Father</td>\n",
       "      <td>2020</td>\n",
       "      <td>8.3</td>\n",
       "      <td>88</td>\n",
       "      <td>105,650</td>\n",
       "      <td>Florian Zeller</td>\n",
       "      <td>Drama</td>\n",
       "      <td>NaN</td>\n",
       "      <td>PG-13</td>\n",
       "    </tr>\n",
       "    <tr>\n",
       "      <th>37</th>\n",
       "      <td>Hamilton</td>\n",
       "      <td>2020</td>\n",
       "      <td>8.4</td>\n",
       "      <td>90</td>\n",
       "      <td>76,229</td>\n",
       "      <td>Thomas Kail</td>\n",
       "      <td>Biography, Drama, History</td>\n",
       "      <td>NaN</td>\n",
       "      <td>PG-13</td>\n",
       "    </tr>\n",
       "    <tr>\n",
       "      <th>80</th>\n",
       "      <td>Klaus</td>\n",
       "      <td>2019</td>\n",
       "      <td>8.2</td>\n",
       "      <td>65</td>\n",
       "      <td>121,924</td>\n",
       "      <td></td>\n",
       "      <td>Animation, Adventure, Comedy</td>\n",
       "      <td>NaN</td>\n",
       "      <td>PG</td>\n",
       "    </tr>\n",
       "    <tr>\n",
       "      <th>81</th>\n",
       "      <td>A Silent Voice: The Movie</td>\n",
       "      <td>2016</td>\n",
       "      <td>8.2</td>\n",
       "      <td>78</td>\n",
       "      <td>65,683</td>\n",
       "      <td>Naoko Yamada</td>\n",
       "      <td>Animation, Drama</td>\n",
       "      <td>NaN</td>\n",
       "      <td>Not Rated</td>\n",
       "    </tr>\n",
       "    <tr>\n",
       "      <th>83</th>\n",
       "      <td>Dangal</td>\n",
       "      <td>2016</td>\n",
       "      <td>8.4</td>\n",
       "      <td>None</td>\n",
       "      <td>173,311</td>\n",
       "      <td>Nitesh Tiwari</td>\n",
       "      <td>Action, Biography, Drama</td>\n",
       "      <td>12.39</td>\n",
       "      <td>Not Rated</td>\n",
       "    </tr>\n",
       "    <tr>\n",
       "      <th>85</th>\n",
       "      <td>Hachi: A Dog's Tale</td>\n",
       "      <td>2009</td>\n",
       "      <td>8.1</td>\n",
       "      <td>None</td>\n",
       "      <td>268,546</td>\n",
       "      <td>Lasse Hallström</td>\n",
       "      <td>Biography, Drama, Family</td>\n",
       "      <td>NaN</td>\n",
       "      <td>G</td>\n",
       "    </tr>\n",
       "    <tr>\n",
       "      <th>89</th>\n",
       "      <td>Andhadhun</td>\n",
       "      <td>2018</td>\n",
       "      <td>8.2</td>\n",
       "      <td>None</td>\n",
       "      <td>84,201</td>\n",
       "      <td>Sriram Raghavan</td>\n",
       "      <td>Crime, Drama, Music</td>\n",
       "      <td>1.37</td>\n",
       "      <td>Not Rated</td>\n",
       "    </tr>\n",
       "    <tr>\n",
       "      <th>91</th>\n",
       "      <td>Like Stars on Earth</td>\n",
       "      <td>2007</td>\n",
       "      <td>8.4</td>\n",
       "      <td>None</td>\n",
       "      <td>182,141</td>\n",
       "      <td></td>\n",
       "      <td>Drama, Family</td>\n",
       "      <td>1.22</td>\n",
       "      <td>PG</td>\n",
       "    </tr>\n",
       "    <tr>\n",
       "      <th>92</th>\n",
       "      <td>Gangs of Wasseypur</td>\n",
       "      <td>2012</td>\n",
       "      <td>8.2</td>\n",
       "      <td>89</td>\n",
       "      <td>90,531</td>\n",
       "      <td>Anurag Kashyap</td>\n",
       "      <td>Action, Comedy, Crime</td>\n",
       "      <td>NaN</td>\n",
       "      <td>Not Rated</td>\n",
       "    </tr>\n",
       "    <tr>\n",
       "      <th>93</th>\n",
       "      <td>Mary and Max</td>\n",
       "      <td>2009</td>\n",
       "      <td>8.1</td>\n",
       "      <td>None</td>\n",
       "      <td>171,470</td>\n",
       "      <td>Adam Elliot</td>\n",
       "      <td>Animation, Comedy, Drama</td>\n",
       "      <td>NaN</td>\n",
       "      <td>Not Rated</td>\n",
       "    </tr>\n",
       "    <tr>\n",
       "      <th>95</th>\n",
       "      <td>My Father and My Son</td>\n",
       "      <td>2005</td>\n",
       "      <td>8.2</td>\n",
       "      <td>None</td>\n",
       "      <td>83,595</td>\n",
       "      <td>Cagan Irmak</td>\n",
       "      <td>Drama, Family</td>\n",
       "      <td>NaN</td>\n",
       "      <td>Not Rated</td>\n",
       "    </tr>\n",
       "  </tbody>\n",
       "</table>\n",
       "</div>"
      ],
      "text/plain": [
       "                        Title   Year Critics rating Metascore     Vote  \\\n",
       "0                        Dune   2021            8.2        74  309,945   \n",
       "1                    Jai Bhim   2021            9.6      None   81,283   \n",
       "20                 The Father   2020            8.3        88  105,650   \n",
       "37                   Hamilton   2020            8.4        90   76,229   \n",
       "80                      Klaus   2019            8.2        65  121,924   \n",
       "81  A Silent Voice: The Movie   2016            8.2        78   65,683   \n",
       "83                     Dangal   2016            8.4      None  173,311   \n",
       "85        Hachi: A Dog's Tale   2009            8.1      None  268,546   \n",
       "89                  Andhadhun   2018            8.2      None   84,201   \n",
       "91        Like Stars on Earth   2007            8.4      None  182,141   \n",
       "92         Gangs of Wasseypur   2012            8.2        89   90,531   \n",
       "93               Mary and Max   2009            8.1      None  171,470   \n",
       "95       My Father and My Son   2005            8.2      None   83,595   \n",
       "\n",
       "            Director                         Genre  Gross [millions]  \\\n",
       "0   Denis Villeneuve      Action, Adventure, Drama               NaN   \n",
       "1      T.J. Gnanavel                  Crime, Drama               NaN   \n",
       "20    Florian Zeller                         Drama               NaN   \n",
       "37       Thomas Kail     Biography, Drama, History               NaN   \n",
       "80                    Animation, Adventure, Comedy               NaN   \n",
       "81      Naoko Yamada              Animation, Drama               NaN   \n",
       "83     Nitesh Tiwari      Action, Biography, Drama             12.39   \n",
       "85   Lasse Hallström      Biography, Drama, Family               NaN   \n",
       "89   Sriram Raghavan           Crime, Drama, Music              1.37   \n",
       "91                                   Drama, Family              1.22   \n",
       "92    Anurag Kashyap         Action, Comedy, Crime               NaN   \n",
       "93       Adam Elliot      Animation, Comedy, Drama               NaN   \n",
       "95       Cagan Irmak                 Drama, Family               NaN   \n",
       "\n",
       "   Motion picture rating (MPAA)  \n",
       "0                         PG-13  \n",
       "1                          None  \n",
       "20                        PG-13  \n",
       "37                        PG-13  \n",
       "80                           PG  \n",
       "81                    Not Rated  \n",
       "83                    Not Rated  \n",
       "85                            G  \n",
       "89                    Not Rated  \n",
       "91                           PG  \n",
       "92                    Not Rated  \n",
       "93                    Not Rated  \n",
       "95                    Not Rated  "
      ]
     },
     "execution_count": 10,
     "metadata": {},
     "output_type": "execute_result"
    }
   ],
   "source": [
    "# locate NaN cells\n",
    "is_NaN = df.isnull()\n",
    "NaN_row = is_NaN.any(axis=1)\n",
    "df_NaN_summary = df[NaN_row]\n",
    "df_NaN_summary"
   ]
  },
  {
   "cell_type": "markdown",
   "metadata": {},
   "source": [
    "# Statistics"
   ]
  },
  {
   "cell_type": "code",
   "execution_count": 92,
   "metadata": {},
   "outputs": [],
   "source": [
    "# import packages\n",
    "import pandas as pd\n",
    "import numpy as np\n",
    "import statsmodels.api as sm"
   ]
  },
  {
   "cell_type": "code",
   "execution_count": 82,
   "metadata": {},
   "outputs": [
    {
     "name": "stdout",
     "output_type": "stream",
     "text": [
      "<class 'pandas.core.frame.DataFrame'>\n",
      "Index: 97 entries, 0 to 5\n",
      "Data columns (total 9 columns):\n",
      " #   Column                        Non-Null Count  Dtype  \n",
      "---  ------                        --------------  -----  \n",
      " 0   Title                         96 non-null     object \n",
      " 1   Year                          96 non-null     object \n",
      " 2   Critics rating                96 non-null     object \n",
      " 3   Metascore                     88 non-null     object \n",
      " 4   Vote                          96 non-null     object \n",
      " 5   Director                      97 non-null     object \n",
      " 6   Genre                         96 non-null     object \n",
      " 7   Gross [millions]              85 non-null     float64\n",
      " 8   Motion picture rating (MPAA)  95 non-null     object \n",
      "dtypes: float64(1), object(8)\n",
      "memory usage: 9.6+ KB\n"
     ]
    }
   ],
   "source": [
    "# to change data to numerical value\n",
    "df.info()"
   ]
  },
  {
   "cell_type": "code",
   "execution_count": 84,
   "metadata": {},
   "outputs": [
    {
     "data": {
      "text/html": [
       "<div>\n",
       "<style scoped>\n",
       "    .dataframe tbody tr th:only-of-type {\n",
       "        vertical-align: middle;\n",
       "    }\n",
       "\n",
       "    .dataframe tbody tr th {\n",
       "        vertical-align: top;\n",
       "    }\n",
       "\n",
       "    .dataframe thead th {\n",
       "        text-align: right;\n",
       "    }\n",
       "</style>\n",
       "<table border=\"1\" class=\"dataframe\">\n",
       "  <thead>\n",
       "    <tr style=\"text-align: right;\">\n",
       "      <th></th>\n",
       "      <th>Title</th>\n",
       "      <th>Year</th>\n",
       "      <th>Critics rating</th>\n",
       "      <th>Metascore</th>\n",
       "      <th>Vote</th>\n",
       "      <th>Director</th>\n",
       "      <th>Genre</th>\n",
       "      <th>Gross [millions]</th>\n",
       "      <th>Motion picture rating (MPAA)</th>\n",
       "    </tr>\n",
       "  </thead>\n",
       "  <tbody>\n",
       "    <tr>\n",
       "      <th>0</th>\n",
       "      <td>Dune</td>\n",
       "      <td>2021</td>\n",
       "      <td>8.2</td>\n",
       "      <td>74.0</td>\n",
       "      <td>308871.0</td>\n",
       "      <td>Denis Villeneuve</td>\n",
       "      <td>Action, Adventure, Drama</td>\n",
       "      <td>NaN</td>\n",
       "      <td>PG-13</td>\n",
       "    </tr>\n",
       "    <tr>\n",
       "      <th>1</th>\n",
       "      <td>Jai Bhim</td>\n",
       "      <td>2021</td>\n",
       "      <td>9.6</td>\n",
       "      <td>NaN</td>\n",
       "      <td>80472.0</td>\n",
       "      <td>T.J. Gnanavel</td>\n",
       "      <td>Crime, Drama</td>\n",
       "      <td>NaN</td>\n",
       "      <td>None</td>\n",
       "    </tr>\n",
       "    <tr>\n",
       "      <th>2</th>\n",
       "      <td>V for Vendetta</td>\n",
       "      <td>2005</td>\n",
       "      <td>8.1</td>\n",
       "      <td>62.0</td>\n",
       "      <td>1073589.0</td>\n",
       "      <td>James McTeigue</td>\n",
       "      <td>Action, Drama, Sci-Fi</td>\n",
       "      <td>70.51</td>\n",
       "      <td>R</td>\n",
       "    </tr>\n",
       "    <tr>\n",
       "      <th>3</th>\n",
       "      <td>Interstellar</td>\n",
       "      <td>2014</td>\n",
       "      <td>8.6</td>\n",
       "      <td>74.0</td>\n",
       "      <td>1637183.0</td>\n",
       "      <td>Christopher Nolan</td>\n",
       "      <td>Adventure, Drama, Sci-Fi</td>\n",
       "      <td>188.02</td>\n",
       "      <td>PG-13</td>\n",
       "    </tr>\n",
       "    <tr>\n",
       "      <th>4</th>\n",
       "      <td>Joker</td>\n",
       "      <td>2019</td>\n",
       "      <td>8.4</td>\n",
       "      <td>59.0</td>\n",
       "      <td>1092036.0</td>\n",
       "      <td>Todd Phillips</td>\n",
       "      <td>Crime, Drama, Thriller</td>\n",
       "      <td>335.45</td>\n",
       "      <td>R</td>\n",
       "    </tr>\n",
       "  </tbody>\n",
       "</table>\n",
       "</div>"
      ],
      "text/plain": [
       "            Title  Year  Critics rating  Metascore       Vote  \\\n",
       "0            Dune  2021             8.2       74.0   308871.0   \n",
       "1        Jai Bhim  2021             9.6        NaN    80472.0   \n",
       "2  V for Vendetta  2005             8.1       62.0  1073589.0   \n",
       "3    Interstellar  2014             8.6       74.0  1637183.0   \n",
       "4           Joker  2019             8.4       59.0  1092036.0   \n",
       "\n",
       "            Director                     Genre  Gross [millions]  \\\n",
       "0   Denis Villeneuve  Action, Adventure, Drama               NaN   \n",
       "1      T.J. Gnanavel              Crime, Drama               NaN   \n",
       "2     James McTeigue     Action, Drama, Sci-Fi             70.51   \n",
       "3  Christopher Nolan  Adventure, Drama, Sci-Fi            188.02   \n",
       "4      Todd Phillips    Crime, Drama, Thriller            335.45   \n",
       "\n",
       "  Motion picture rating (MPAA)  \n",
       "0                        PG-13  \n",
       "1                         None  \n",
       "2                            R  \n",
       "3                        PG-13  \n",
       "4                            R  "
      ]
     },
     "execution_count": 84,
     "metadata": {},
     "output_type": "execute_result"
    }
   ],
   "source": [
    "# change numerical data dtype to float for statiscial analysis\n",
    "df['Vote'] = df['Vote'].str.replace(',','')\n",
    "df[[\"Critics rating\", \"Metascore\", \"Vote\"]] = df[[\"Critics rating\", \"Metascore\", \"Vote\"]].apply(pd.to_numeric)\n",
    "df.head()"
   ]
  },
  {
   "cell_type": "code",
   "execution_count": 85,
   "metadata": {},
   "outputs": [
    {
     "name": "stdout",
     "output_type": "stream",
     "text": [
      "<class 'pandas.core.frame.DataFrame'>\n",
      "Index: 97 entries, 0 to 5\n",
      "Data columns (total 9 columns):\n",
      " #   Column                        Non-Null Count  Dtype  \n",
      "---  ------                        --------------  -----  \n",
      " 0   Title                         96 non-null     object \n",
      " 1   Year                          96 non-null     object \n",
      " 2   Critics rating                96 non-null     float64\n",
      " 3   Metascore                     88 non-null     float64\n",
      " 4   Vote                          96 non-null     float64\n",
      " 5   Director                      97 non-null     object \n",
      " 6   Genre                         96 non-null     object \n",
      " 7   Gross [millions]              85 non-null     float64\n",
      " 8   Motion picture rating (MPAA)  95 non-null     object \n",
      "dtypes: float64(4), object(5)\n",
      "memory usage: 9.6+ KB\n"
     ]
    }
   ],
   "source": [
    "# check dtype\n",
    "df.info()"
   ]
  },
  {
   "cell_type": "code",
   "execution_count": 86,
   "metadata": {},
   "outputs": [
    {
     "data": {
      "text/html": [
       "<div>\n",
       "<style scoped>\n",
       "    .dataframe tbody tr th:only-of-type {\n",
       "        vertical-align: middle;\n",
       "    }\n",
       "\n",
       "    .dataframe tbody tr th {\n",
       "        vertical-align: top;\n",
       "    }\n",
       "\n",
       "    .dataframe thead th {\n",
       "        text-align: right;\n",
       "    }\n",
       "</style>\n",
       "<table border=\"1\" class=\"dataframe\">\n",
       "  <thead>\n",
       "    <tr style=\"text-align: right;\">\n",
       "      <th></th>\n",
       "      <th>count</th>\n",
       "      <th>mean</th>\n",
       "      <th>std</th>\n",
       "      <th>min</th>\n",
       "      <th>25%</th>\n",
       "      <th>50%</th>\n",
       "      <th>75%</th>\n",
       "      <th>max</th>\n",
       "    </tr>\n",
       "  </thead>\n",
       "  <tbody>\n",
       "    <tr>\n",
       "      <th>Critics rating</th>\n",
       "      <td>96.0</td>\n",
       "      <td>8.303125</td>\n",
       "      <td>0.254415</td>\n",
       "      <td>8.10</td>\n",
       "      <td>8.10</td>\n",
       "      <td>8.2</td>\n",
       "      <td>8.40</td>\n",
       "      <td>9.60</td>\n",
       "    </tr>\n",
       "    <tr>\n",
       "      <th>Metascore</th>\n",
       "      <td>88.0</td>\n",
       "      <td>79.988636</td>\n",
       "      <td>9.910513</td>\n",
       "      <td>55.00</td>\n",
       "      <td>73.75</td>\n",
       "      <td>80.0</td>\n",
       "      <td>88.00</td>\n",
       "      <td>98.00</td>\n",
       "    </tr>\n",
       "    <tr>\n",
       "      <th>Vote</th>\n",
       "      <td>96.0</td>\n",
       "      <td>689992.260417</td>\n",
       "      <td>496151.088437</td>\n",
       "      <td>65662.00</td>\n",
       "      <td>297073.50</td>\n",
       "      <td>660321.5</td>\n",
       "      <td>942883.50</td>\n",
       "      <td>2439902.00</td>\n",
       "    </tr>\n",
       "    <tr>\n",
       "      <th>Gross [millions]</th>\n",
       "      <td>85.0</td>\n",
       "      <td>129.564588</td>\n",
       "      <td>163.457398</td>\n",
       "      <td>0.01</td>\n",
       "      <td>11.29</td>\n",
       "      <td>59.1</td>\n",
       "      <td>188.02</td>\n",
       "      <td>858.37</td>\n",
       "    </tr>\n",
       "  </tbody>\n",
       "</table>\n",
       "</div>"
      ],
      "text/plain": [
       "                  count           mean            std       min        25%  \\\n",
       "Critics rating     96.0       8.303125       0.254415      8.10       8.10   \n",
       "Metascore          88.0      79.988636       9.910513     55.00      73.75   \n",
       "Vote               96.0  689992.260417  496151.088437  65662.00  297073.50   \n",
       "Gross [millions]   85.0     129.564588     163.457398      0.01      11.29   \n",
       "\n",
       "                       50%        75%         max  \n",
       "Critics rating         8.2       8.40        9.60  \n",
       "Metascore             80.0      88.00       98.00  \n",
       "Vote              660321.5  942883.50  2439902.00  \n",
       "Gross [millions]      59.1     188.02      858.37  "
      ]
     },
     "execution_count": 86,
     "metadata": {},
     "output_type": "execute_result"
    }
   ],
   "source": [
    "summary_stats = df.describe()\n",
    "summary_stats.T"
   ]
  },
  {
   "cell_type": "markdown",
   "metadata": {},
   "source": [
    "# Visualisation"
   ]
  },
  {
   "cell_type": "markdown",
   "metadata": {},
   "source": [
    "### Director Scatter plot"
   ]
  },
  {
   "cell_type": "markdown",
   "metadata": {},
   "source": [
    "#### Data preparation"
   ]
  },
  {
   "cell_type": "code",
   "execution_count": 93,
   "metadata": {},
   "outputs": [],
   "source": [
    "import seaborn as sns\n",
    "import matplotlib.pyplot as plt"
   ]
  },
  {
   "cell_type": "code",
   "execution_count": 94,
   "metadata": {},
   "outputs": [
    {
     "data": {
      "text/html": [
       "<div>\n",
       "<style scoped>\n",
       "    .dataframe tbody tr th:only-of-type {\n",
       "        vertical-align: middle;\n",
       "    }\n",
       "\n",
       "    .dataframe tbody tr th {\n",
       "        vertical-align: top;\n",
       "    }\n",
       "\n",
       "    .dataframe thead th {\n",
       "        text-align: right;\n",
       "    }\n",
       "</style>\n",
       "<table border=\"1\" class=\"dataframe\">\n",
       "  <thead>\n",
       "    <tr style=\"text-align: right;\">\n",
       "      <th></th>\n",
       "      <th>Director</th>\n",
       "      <th>Metascore</th>\n",
       "      <th>Vote</th>\n",
       "    </tr>\n",
       "  </thead>\n",
       "  <tbody>\n",
       "    <tr>\n",
       "      <th>0</th>\n",
       "      <td></td>\n",
       "      <td>NaN</td>\n",
       "      <td>182127.0</td>\n",
       "    </tr>\n",
       "    <tr>\n",
       "      <th>1</th>\n",
       "      <td>Dean DeBlois, Chris Sanders</td>\n",
       "      <td>75.0</td>\n",
       "      <td>698193.0</td>\n",
       "    </tr>\n",
       "    <tr>\n",
       "      <th>2</th>\n",
       "      <td>Adam Elliot</td>\n",
       "      <td>NaN</td>\n",
       "      <td>171467.0</td>\n",
       "    </tr>\n",
       "    <tr>\n",
       "      <th>3</th>\n",
       "      <td>Adrian Molina, Lee Unkrich</td>\n",
       "      <td>81.0</td>\n",
       "      <td>439918.0</td>\n",
       "    </tr>\n",
       "    <tr>\n",
       "      <th>4</th>\n",
       "      <td>Amir Khan, Amole Gupte</td>\n",
       "      <td>83.0</td>\n",
       "      <td>233034.0</td>\n",
       "    </tr>\n",
       "    <tr>\n",
       "      <th>...</th>\n",
       "      <td>...</td>\n",
       "      <td>...</td>\n",
       "      <td>...</td>\n",
       "    </tr>\n",
       "    <tr>\n",
       "      <th>71</th>\n",
       "      <td>Thomas Vinterberg</td>\n",
       "      <td>77.0</td>\n",
       "      <td>306590.0</td>\n",
       "    </tr>\n",
       "    <tr>\n",
       "      <th>72</th>\n",
       "      <td>Todd Phillips</td>\n",
       "      <td>59.0</td>\n",
       "      <td>1092036.0</td>\n",
       "    </tr>\n",
       "    <tr>\n",
       "      <th>73</th>\n",
       "      <td>Tom McCarthy</td>\n",
       "      <td>93.0</td>\n",
       "      <td>445775.0</td>\n",
       "    </tr>\n",
       "    <tr>\n",
       "      <th>74</th>\n",
       "      <td>Wes Anderson</td>\n",
       "      <td>88.0</td>\n",
       "      <td>752499.0</td>\n",
       "    </tr>\n",
       "    <tr>\n",
       "      <th>75</th>\n",
       "      <td>sdd</td>\n",
       "      <td>NaN</td>\n",
       "      <td>0.0</td>\n",
       "    </tr>\n",
       "  </tbody>\n",
       "</table>\n",
       "<p>76 rows × 3 columns</p>\n",
       "</div>"
      ],
      "text/plain": [
       "                        Director  Metascore       Vote\n",
       "0                                       NaN   182127.0\n",
       "1    Dean DeBlois, Chris Sanders       75.0   698193.0\n",
       "2                    Adam Elliot        NaN   171467.0\n",
       "3     Adrian Molina, Lee Unkrich       81.0   439918.0\n",
       "4         Amir Khan, Amole Gupte       83.0   233034.0\n",
       "..                           ...        ...        ...\n",
       "71             Thomas Vinterberg       77.0   306590.0\n",
       "72                 Todd Phillips       59.0  1092036.0\n",
       "73                  Tom McCarthy       93.0   445775.0\n",
       "74                  Wes Anderson       88.0   752499.0\n",
       "75                           sdd        NaN        0.0\n",
       "\n",
       "[76 rows x 3 columns]"
      ]
     },
     "execution_count": 94,
     "metadata": {},
     "output_type": "execute_result"
    }
   ],
   "source": [
    "# Creating unique df for directors \n",
    "table = pd.pivot_table(df, values=['Metascore','Vote'], index=['Director'],aggfunc={'Metascore': np.mean, 'Vote': np.sum})\n",
    "flat = pd.DataFrame(table.to_records())\n",
    "flat\n",
    "# Metascore summarised as mean score \n",
    "# Vote summarising as sum of votes in all director's movies"
   ]
  },
  {
   "cell_type": "code",
   "execution_count": 90,
   "metadata": {},
   "outputs": [],
   "source": [
    "# Normalising data for plotting\n",
    "vote_num= flat['Vote']\n",
    "vote_norm = vote_num/vote_num.max()"
   ]
  },
  {
   "cell_type": "markdown",
   "metadata": {},
   "source": [
    "#### Plotting"
   ]
  },
  {
   "cell_type": "code",
   "execution_count": 105,
   "metadata": {},
   "outputs": [
    {
     "data": {
      "application/vnd.plotly.v1+json": {
       "config": {
        "plotlyServerURL": "https://plot.ly"
       },
       "data": [
        {
         "marker": {
          "size": [
           2.343598801737686,
           8.98430369018125,
           2.2064265909917578,
           5.660837205152665,
           2.998666881704195,
           13.506174036277288,
           12.735140106100433,
           1.1648957525512829,
           3.004007075649745,
           10.834108269108029,
           1.0756566079431202,
           150,
           18.10634578034603,
           9.930882019888683,
           2.4221575584547494,
           10.297142116930088,
           11.801609864732244,
           10.415617214897983,
           14.41512651755873,
           11.692193794565958,
           9.33777305762777,
           4.822902869378427,
           1.358802698492221,
           5.819872041232302,
           12.044440707976749,
           8.262952865603832,
           10.507790249191894,
           13.670883632670149,
           13.344436933381832,
           13.81487585014172,
           9.374279395515781,
           24.416885135645217,
           2.600918942289875,
           1.7803048500113237,
           3.4553499735778352,
           10.178100829724594,
           5.092524757911208,
           2.9569747651172524,
           6.058340653759839,
           48.09310467294851,
           6.094164990975287,
           12.280104110190718,
           0.9965702658001112,
           0.8449344936209345,
           2.230077859598795,
           4.417601450817028,
           10.334832305042172,
           8.69545710344449,
           7.068782555881162,
           12.638077255663609,
           11.020963585453398,
           8.486739161765412,
           5.577208481171635,
           64.61091647164592,
           5.607589680943787,
           49.397913506873195,
           4.7705561007748205,
           3.212866564638222,
           18.143302496036675,
           9.999969974813157,
           17.272233221925593,
           6.488387115591823,
           7.692375661411973,
           1.568794565955899,
           1.083467445834563,
           8.603991805697579,
           11.53727669839614,
           1.2281287960414793,
           1.0355086438223609,
           4.439824378392846,
           0.9808327785822621,
           3.9451808717255386,
           14.05225068800571,
           5.7362047134396175,
           9.683109888752394,
           0
          ]
         },
         "mode": "markers",
         "type": "scatter",
         "x": [
          "",
          " Dean DeBlois, Chris Sanders",
          "Adam Elliot",
          "Adrian Molina, Lee Unkrich",
          "Amir Khan, Amole Gupte",
          "Andrew Stanton",
          "Andrew Stanton, Lee Unkrich",
          "Anurag Kashyap",
          "Asghar Farhadi",
          "Bong Joon Ho",
          "Cagan Irmak",
          "Christopher Nolan",
          "Clint Eastwood",
          "Damien Chazelle",
          "Damián Szifron",
          "Darren Aronofsky",
          "David Fincher",
          "David Yates",
          "Denis Villeneuve",
          "Ethan Coen, Joel Coen",
          "Fernando Meirelles, Kátia Lund",
          "Florian Henckel von Donnersmarck",
          "Florian Zeller",
          "Gavin O'Connor",
          "George Miller",
          "Guillermo del Toro",
          "Guy Ritchie",
          "Hayao Miyazaki",
          "James Mangold",
          "James McTeigue",
          "Jean-Pierre Jeunet",
          "Joe Russo, Anthony Russo",
          "Juan José Campanella",
          "Kar-Wai Wong",
          "Lasse Hallström",
          "Lee Unkrich",
          "Lenny Abrahamson",
          "Makoto Shinkai",
          "Martin McDonagh",
          "Martin Scorsese",
          "Mel Gibson",
          "Michel Gondry",
          "Nadine Labaki",
          "Naoko Yamada",
          "Nitesh Tiwari",
          "Oliver Hirschbiegel",
          "Olivier Nakache, Éric Toledano",
          "Park Chan-Wook",
          "Paul Thomas Anderson",
          "Pete Docter, Bob Peterson",
          "Pete Docter, David Silverman, Lee Unkrich",
          "Pete Docter, Ronnie Del Carmen",
          "Peter Farrelly",
          "Peter Jackson",
          "Peter Ramsey, Bob Persichetti, Rodney Rothman",
          "Quentin Tarantino",
          "Rajkumar Hirani",
          "Richard Linklater",
          "Ridley Scott",
          "Roman Polanski",
          "Ron Howard",
          "Sam Mendes",
          "Sean Penn",
          "Sergio Pablos, Carlos Martínez López ",
          "Sriram Raghavan",
          "Steve McQueen",
          "Steven Spielberg",
          "Sudha Kongara",
          "T.J. Gnanavel",
          "Terry George",
          "Thomas Kail",
          "Thomas Vinterberg",
          "Todd Phillips",
          "Tom McCarthy",
          "Wes Anderson",
          "sdd"
         ],
         "y": [
          182127,
          698193,
          171467,
          439918,
          233034,
          1049599,
          989680,
          90527,
          233449,
          841946,
          83592,
          11656880,
          1407090,
          771754,
          188232,
          800217,
          917133,
          809424,
          1120236,
          908630,
          725662,
          374800,
          105596,
          452277,
          936004,
          642135,
          816587,
          1062399,
          1037030,
          1073589,
          728499,
          1897498,
          202124,
          138352,
          268524,
          790966,
          395753,
          229794,
          470809,
          3737437,
          473593,
          954318,
          77446,
          65662,
          173305,
          343303,
          803146,
          675746,
          549333,
          982137,
          856467,
          659526,
          433419,
          5021078,
          435780,
          3838837,
          370732,
          249680,
          1409962,
          777123,
          1342269,
          504229,
          597794,
          121915,
          84199,
          668638,
          896591,
          95441,
          80472,
          345030,
          76223,
          306590,
          1092036,
          445775,
          752499,
          0
         ]
        }
       ],
       "layout": {
        "template": {
         "data": {
          "bar": [
           {
            "error_x": {
             "color": "#2a3f5f"
            },
            "error_y": {
             "color": "#2a3f5f"
            },
            "marker": {
             "line": {
              "color": "#E5ECF6",
              "width": 0.5
             },
             "pattern": {
              "fillmode": "overlay",
              "size": 10,
              "solidity": 0.2
             }
            },
            "type": "bar"
           }
          ],
          "barpolar": [
           {
            "marker": {
             "line": {
              "color": "#E5ECF6",
              "width": 0.5
             },
             "pattern": {
              "fillmode": "overlay",
              "size": 10,
              "solidity": 0.2
             }
            },
            "type": "barpolar"
           }
          ],
          "carpet": [
           {
            "aaxis": {
             "endlinecolor": "#2a3f5f",
             "gridcolor": "white",
             "linecolor": "white",
             "minorgridcolor": "white",
             "startlinecolor": "#2a3f5f"
            },
            "baxis": {
             "endlinecolor": "#2a3f5f",
             "gridcolor": "white",
             "linecolor": "white",
             "minorgridcolor": "white",
             "startlinecolor": "#2a3f5f"
            },
            "type": "carpet"
           }
          ],
          "choropleth": [
           {
            "colorbar": {
             "outlinewidth": 0,
             "ticks": ""
            },
            "type": "choropleth"
           }
          ],
          "contour": [
           {
            "colorbar": {
             "outlinewidth": 0,
             "ticks": ""
            },
            "colorscale": [
             [
              0,
              "#0d0887"
             ],
             [
              0.1111111111111111,
              "#46039f"
             ],
             [
              0.2222222222222222,
              "#7201a8"
             ],
             [
              0.3333333333333333,
              "#9c179e"
             ],
             [
              0.4444444444444444,
              "#bd3786"
             ],
             [
              0.5555555555555556,
              "#d8576b"
             ],
             [
              0.6666666666666666,
              "#ed7953"
             ],
             [
              0.7777777777777778,
              "#fb9f3a"
             ],
             [
              0.8888888888888888,
              "#fdca26"
             ],
             [
              1,
              "#f0f921"
             ]
            ],
            "type": "contour"
           }
          ],
          "contourcarpet": [
           {
            "colorbar": {
             "outlinewidth": 0,
             "ticks": ""
            },
            "type": "contourcarpet"
           }
          ],
          "heatmap": [
           {
            "colorbar": {
             "outlinewidth": 0,
             "ticks": ""
            },
            "colorscale": [
             [
              0,
              "#0d0887"
             ],
             [
              0.1111111111111111,
              "#46039f"
             ],
             [
              0.2222222222222222,
              "#7201a8"
             ],
             [
              0.3333333333333333,
              "#9c179e"
             ],
             [
              0.4444444444444444,
              "#bd3786"
             ],
             [
              0.5555555555555556,
              "#d8576b"
             ],
             [
              0.6666666666666666,
              "#ed7953"
             ],
             [
              0.7777777777777778,
              "#fb9f3a"
             ],
             [
              0.8888888888888888,
              "#fdca26"
             ],
             [
              1,
              "#f0f921"
             ]
            ],
            "type": "heatmap"
           }
          ],
          "heatmapgl": [
           {
            "colorbar": {
             "outlinewidth": 0,
             "ticks": ""
            },
            "colorscale": [
             [
              0,
              "#0d0887"
             ],
             [
              0.1111111111111111,
              "#46039f"
             ],
             [
              0.2222222222222222,
              "#7201a8"
             ],
             [
              0.3333333333333333,
              "#9c179e"
             ],
             [
              0.4444444444444444,
              "#bd3786"
             ],
             [
              0.5555555555555556,
              "#d8576b"
             ],
             [
              0.6666666666666666,
              "#ed7953"
             ],
             [
              0.7777777777777778,
              "#fb9f3a"
             ],
             [
              0.8888888888888888,
              "#fdca26"
             ],
             [
              1,
              "#f0f921"
             ]
            ],
            "type": "heatmapgl"
           }
          ],
          "histogram": [
           {
            "marker": {
             "pattern": {
              "fillmode": "overlay",
              "size": 10,
              "solidity": 0.2
             }
            },
            "type": "histogram"
           }
          ],
          "histogram2d": [
           {
            "colorbar": {
             "outlinewidth": 0,
             "ticks": ""
            },
            "colorscale": [
             [
              0,
              "#0d0887"
             ],
             [
              0.1111111111111111,
              "#46039f"
             ],
             [
              0.2222222222222222,
              "#7201a8"
             ],
             [
              0.3333333333333333,
              "#9c179e"
             ],
             [
              0.4444444444444444,
              "#bd3786"
             ],
             [
              0.5555555555555556,
              "#d8576b"
             ],
             [
              0.6666666666666666,
              "#ed7953"
             ],
             [
              0.7777777777777778,
              "#fb9f3a"
             ],
             [
              0.8888888888888888,
              "#fdca26"
             ],
             [
              1,
              "#f0f921"
             ]
            ],
            "type": "histogram2d"
           }
          ],
          "histogram2dcontour": [
           {
            "colorbar": {
             "outlinewidth": 0,
             "ticks": ""
            },
            "colorscale": [
             [
              0,
              "#0d0887"
             ],
             [
              0.1111111111111111,
              "#46039f"
             ],
             [
              0.2222222222222222,
              "#7201a8"
             ],
             [
              0.3333333333333333,
              "#9c179e"
             ],
             [
              0.4444444444444444,
              "#bd3786"
             ],
             [
              0.5555555555555556,
              "#d8576b"
             ],
             [
              0.6666666666666666,
              "#ed7953"
             ],
             [
              0.7777777777777778,
              "#fb9f3a"
             ],
             [
              0.8888888888888888,
              "#fdca26"
             ],
             [
              1,
              "#f0f921"
             ]
            ],
            "type": "histogram2dcontour"
           }
          ],
          "mesh3d": [
           {
            "colorbar": {
             "outlinewidth": 0,
             "ticks": ""
            },
            "type": "mesh3d"
           }
          ],
          "parcoords": [
           {
            "line": {
             "colorbar": {
              "outlinewidth": 0,
              "ticks": ""
             }
            },
            "type": "parcoords"
           }
          ],
          "pie": [
           {
            "automargin": true,
            "type": "pie"
           }
          ],
          "scatter": [
           {
            "marker": {
             "colorbar": {
              "outlinewidth": 0,
              "ticks": ""
             }
            },
            "type": "scatter"
           }
          ],
          "scatter3d": [
           {
            "line": {
             "colorbar": {
              "outlinewidth": 0,
              "ticks": ""
             }
            },
            "marker": {
             "colorbar": {
              "outlinewidth": 0,
              "ticks": ""
             }
            },
            "type": "scatter3d"
           }
          ],
          "scattercarpet": [
           {
            "marker": {
             "colorbar": {
              "outlinewidth": 0,
              "ticks": ""
             }
            },
            "type": "scattercarpet"
           }
          ],
          "scattergeo": [
           {
            "marker": {
             "colorbar": {
              "outlinewidth": 0,
              "ticks": ""
             }
            },
            "type": "scattergeo"
           }
          ],
          "scattergl": [
           {
            "marker": {
             "colorbar": {
              "outlinewidth": 0,
              "ticks": ""
             }
            },
            "type": "scattergl"
           }
          ],
          "scattermapbox": [
           {
            "marker": {
             "colorbar": {
              "outlinewidth": 0,
              "ticks": ""
             }
            },
            "type": "scattermapbox"
           }
          ],
          "scatterpolar": [
           {
            "marker": {
             "colorbar": {
              "outlinewidth": 0,
              "ticks": ""
             }
            },
            "type": "scatterpolar"
           }
          ],
          "scatterpolargl": [
           {
            "marker": {
             "colorbar": {
              "outlinewidth": 0,
              "ticks": ""
             }
            },
            "type": "scatterpolargl"
           }
          ],
          "scatterternary": [
           {
            "marker": {
             "colorbar": {
              "outlinewidth": 0,
              "ticks": ""
             }
            },
            "type": "scatterternary"
           }
          ],
          "surface": [
           {
            "colorbar": {
             "outlinewidth": 0,
             "ticks": ""
            },
            "colorscale": [
             [
              0,
              "#0d0887"
             ],
             [
              0.1111111111111111,
              "#46039f"
             ],
             [
              0.2222222222222222,
              "#7201a8"
             ],
             [
              0.3333333333333333,
              "#9c179e"
             ],
             [
              0.4444444444444444,
              "#bd3786"
             ],
             [
              0.5555555555555556,
              "#d8576b"
             ],
             [
              0.6666666666666666,
              "#ed7953"
             ],
             [
              0.7777777777777778,
              "#fb9f3a"
             ],
             [
              0.8888888888888888,
              "#fdca26"
             ],
             [
              1,
              "#f0f921"
             ]
            ],
            "type": "surface"
           }
          ],
          "table": [
           {
            "cells": {
             "fill": {
              "color": "#EBF0F8"
             },
             "line": {
              "color": "white"
             }
            },
            "header": {
             "fill": {
              "color": "#C8D4E3"
             },
             "line": {
              "color": "white"
             }
            },
            "type": "table"
           }
          ]
         },
         "layout": {
          "annotationdefaults": {
           "arrowcolor": "#2a3f5f",
           "arrowhead": 0,
           "arrowwidth": 1
          },
          "autotypenumbers": "strict",
          "coloraxis": {
           "colorbar": {
            "outlinewidth": 0,
            "ticks": ""
           }
          },
          "colorscale": {
           "diverging": [
            [
             0,
             "#8e0152"
            ],
            [
             0.1,
             "#c51b7d"
            ],
            [
             0.2,
             "#de77ae"
            ],
            [
             0.3,
             "#f1b6da"
            ],
            [
             0.4,
             "#fde0ef"
            ],
            [
             0.5,
             "#f7f7f7"
            ],
            [
             0.6,
             "#e6f5d0"
            ],
            [
             0.7,
             "#b8e186"
            ],
            [
             0.8,
             "#7fbc41"
            ],
            [
             0.9,
             "#4d9221"
            ],
            [
             1,
             "#276419"
            ]
           ],
           "sequential": [
            [
             0,
             "#0d0887"
            ],
            [
             0.1111111111111111,
             "#46039f"
            ],
            [
             0.2222222222222222,
             "#7201a8"
            ],
            [
             0.3333333333333333,
             "#9c179e"
            ],
            [
             0.4444444444444444,
             "#bd3786"
            ],
            [
             0.5555555555555556,
             "#d8576b"
            ],
            [
             0.6666666666666666,
             "#ed7953"
            ],
            [
             0.7777777777777778,
             "#fb9f3a"
            ],
            [
             0.8888888888888888,
             "#fdca26"
            ],
            [
             1,
             "#f0f921"
            ]
           ],
           "sequentialminus": [
            [
             0,
             "#0d0887"
            ],
            [
             0.1111111111111111,
             "#46039f"
            ],
            [
             0.2222222222222222,
             "#7201a8"
            ],
            [
             0.3333333333333333,
             "#9c179e"
            ],
            [
             0.4444444444444444,
             "#bd3786"
            ],
            [
             0.5555555555555556,
             "#d8576b"
            ],
            [
             0.6666666666666666,
             "#ed7953"
            ],
            [
             0.7777777777777778,
             "#fb9f3a"
            ],
            [
             0.8888888888888888,
             "#fdca26"
            ],
            [
             1,
             "#f0f921"
            ]
           ]
          },
          "colorway": [
           "#636efa",
           "#EF553B",
           "#00cc96",
           "#ab63fa",
           "#FFA15A",
           "#19d3f3",
           "#FF6692",
           "#B6E880",
           "#FF97FF",
           "#FECB52"
          ],
          "font": {
           "color": "#2a3f5f"
          },
          "geo": {
           "bgcolor": "white",
           "lakecolor": "white",
           "landcolor": "#E5ECF6",
           "showlakes": true,
           "showland": true,
           "subunitcolor": "white"
          },
          "hoverlabel": {
           "align": "left"
          },
          "hovermode": "closest",
          "mapbox": {
           "style": "light"
          },
          "paper_bgcolor": "white",
          "plot_bgcolor": "#E5ECF6",
          "polar": {
           "angularaxis": {
            "gridcolor": "white",
            "linecolor": "white",
            "ticks": ""
           },
           "bgcolor": "#E5ECF6",
           "radialaxis": {
            "gridcolor": "white",
            "linecolor": "white",
            "ticks": ""
           }
          },
          "scene": {
           "xaxis": {
            "backgroundcolor": "#E5ECF6",
            "gridcolor": "white",
            "gridwidth": 2,
            "linecolor": "white",
            "showbackground": true,
            "ticks": "",
            "zerolinecolor": "white"
           },
           "yaxis": {
            "backgroundcolor": "#E5ECF6",
            "gridcolor": "white",
            "gridwidth": 2,
            "linecolor": "white",
            "showbackground": true,
            "ticks": "",
            "zerolinecolor": "white"
           },
           "zaxis": {
            "backgroundcolor": "#E5ECF6",
            "gridcolor": "white",
            "gridwidth": 2,
            "linecolor": "white",
            "showbackground": true,
            "ticks": "",
            "zerolinecolor": "white"
           }
          },
          "shapedefaults": {
           "line": {
            "color": "#2a3f5f"
           }
          },
          "ternary": {
           "aaxis": {
            "gridcolor": "white",
            "linecolor": "white",
            "ticks": ""
           },
           "baxis": {
            "gridcolor": "white",
            "linecolor": "white",
            "ticks": ""
           },
           "bgcolor": "#E5ECF6",
           "caxis": {
            "gridcolor": "white",
            "linecolor": "white",
            "ticks": ""
           }
          },
          "title": {
           "x": 0.05
          },
          "xaxis": {
           "automargin": true,
           "gridcolor": "white",
           "linecolor": "white",
           "ticks": "",
           "title": {
            "standoff": 15
           },
           "zerolinecolor": "white",
           "zerolinewidth": 2
          },
          "yaxis": {
           "automargin": true,
           "gridcolor": "white",
           "linecolor": "white",
           "ticks": "",
           "title": {
            "standoff": 15
           },
           "zerolinecolor": "white",
           "zerolinewidth": 2
          }
         }
        },
        "title": {
         "text": "Directors with the most user engagement (Votes)"
        },
        "xaxis": {
         "showticklabels": false,
         "title": {
          "text": "Directors"
         }
        },
        "yaxis": {
         "title": {
          "text": "Total Votes"
         }
        }
       }
      }
     },
     "metadata": {},
     "output_type": "display_data"
    }
   ],
   "source": [
    "# Scatter plot\n",
    "import plotly.graph_objects as go\n",
    "\n",
    "fig = go.Figure(data=[go.Scatter(\n",
    "    x=flat.Director, y=vote_num,\n",
    "    mode='markers', \n",
    "    marker_size=vote_norm*150,\n",
    ")])\n",
    "fig.update_layout(\n",
    "    title= \"Directors with the most user engagement (Votes)\",\n",
    "    yaxis_title=\"Total Votes\",\n",
    "    xaxis_title=\"Directors\"\n",
    ")\n",
    "\n",
    "fig.update_xaxes(showticklabels=False) # hide all the xticks\n",
    "fig.show()"
   ]
  },
  {
   "cell_type": "markdown",
   "metadata": {},
   "source": [
    "### Director's with the most critic's recognition"
   ]
  },
  {
   "cell_type": "code",
   "execution_count": 104,
   "metadata": {},
   "outputs": [
    {
     "data": {
      "text/plain": [
       "0     0.000000\n",
       "1     0.765306\n",
       "2     0.000000\n",
       "3     0.826531\n",
       "4     0.846939\n",
       "        ...   \n",
       "71    0.785714\n",
       "72    0.602041\n",
       "73    0.948980\n",
       "74    0.897959\n",
       "75    0.000000\n",
       "Name: Metascore, Length: 76, dtype: float64"
      ]
     },
     "execution_count": 104,
     "metadata": {},
     "output_type": "execute_result"
    }
   ],
   "source": [
    "# Normalising data for plotting\n",
    "critic_num= flat['Metascore']\n",
    "critic_norm = critic_num/critic_num.max()\n",
    "critic_norm.fillna(0, inplace=True)\n",
    "\n",
    "critic_norm"
   ]
  },
  {
   "cell_type": "code",
   "execution_count": 103,
   "metadata": {},
   "outputs": [
    {
     "data": {
      "application/vnd.plotly.v1+json": {
       "config": {
        "plotlyServerURL": "https://plot.ly"
       },
       "data": [
        {
         "marker": {
          "size": [
           0,
           15.306122448979592,
           0,
           16.53061224489796,
           16.93877551020408,
           19.387755102040817,
           18.367346938775512,
           18.163265306122447,
           19.387755102040817,
           18.163265306122447,
           0,
           15.33527696793003,
           16.122448979591837,
           17.959183673469386,
           15.714285714285714,
           13.877551020408163,
           16.122448979591837,
           17.346938775510203,
           15.238095238095239,
           18.571428571428573,
           16.122448979591837,
           18.163265306122447,
           17.959183673469386,
           14.489795918367347,
           18.367346938775512,
           20,
           11.224489795918366,
           17.959183673469386,
           16.122448979591837,
           12.653061224489797,
           14.081632653061224,
           14.897959183673471,
           16.3265306122449,
           17.346938775510203,
           0,
           18.775510204081634,
           17.551020408163264,
           16.122448979591837,
           17.959183673469386,
           15.170068027210883,
           14.489795918367347,
           18.163265306122447,
           15.306122448979592,
           15.918367346938776,
           0,
           16.73469387755102,
           11.63265306122449,
           16.428571428571427,
           18.979591836734695,
           17.959183673469386,
           16.122448979591837,
           19.183673469387756,
           14.081632653061224,
           18.571428571428573,
           17.755102040816325,
           14.897959183673471,
           13.673469387755102,
           18.367346938775512,
           13.673469387755102,
           17.346938775510203,
           14.897959183673471,
           15.918367346938776,
           14.897959183673471,
           13.26530612244898,
           0,
           19.591836734693878,
           15.306122448979592,
           0,
           0,
           16.122448979591837,
           18.367346938775512,
           15.714285714285714,
           12.040816326530612,
           18.979591836734695,
           17.959183673469386,
           0
          ]
         },
         "mode": "markers",
         "type": "scatter",
         "x": [
          "",
          " Dean DeBlois, Chris Sanders",
          "Adam Elliot",
          "Adrian Molina, Lee Unkrich",
          "Amir Khan, Amole Gupte",
          "Andrew Stanton",
          "Andrew Stanton, Lee Unkrich",
          "Anurag Kashyap",
          "Asghar Farhadi",
          "Bong Joon Ho",
          "Cagan Irmak",
          "Christopher Nolan",
          "Clint Eastwood",
          "Damien Chazelle",
          "Damián Szifron",
          "Darren Aronofsky",
          "David Fincher",
          "David Yates",
          "Denis Villeneuve",
          "Ethan Coen, Joel Coen",
          "Fernando Meirelles, Kátia Lund",
          "Florian Henckel von Donnersmarck",
          "Florian Zeller",
          "Gavin O'Connor",
          "George Miller",
          "Guillermo del Toro",
          "Guy Ritchie",
          "Hayao Miyazaki",
          "James Mangold",
          "James McTeigue",
          "Jean-Pierre Jeunet",
          "Joe Russo, Anthony Russo",
          "Juan José Campanella",
          "Kar-Wai Wong",
          "Lasse Hallström",
          "Lee Unkrich",
          "Lenny Abrahamson",
          "Makoto Shinkai",
          "Martin McDonagh",
          "Martin Scorsese",
          "Mel Gibson",
          "Michel Gondry",
          "Nadine Labaki",
          "Naoko Yamada",
          "Nitesh Tiwari",
          "Oliver Hirschbiegel",
          "Olivier Nakache, Éric Toledano",
          "Park Chan-Wook",
          "Paul Thomas Anderson",
          "Pete Docter, Bob Peterson",
          "Pete Docter, David Silverman, Lee Unkrich",
          "Pete Docter, Ronnie Del Carmen",
          "Peter Farrelly",
          "Peter Jackson",
          "Peter Ramsey, Bob Persichetti, Rodney Rothman",
          "Quentin Tarantino",
          "Rajkumar Hirani",
          "Richard Linklater",
          "Ridley Scott",
          "Roman Polanski",
          "Ron Howard",
          "Sam Mendes",
          "Sean Penn",
          "Sergio Pablos, Carlos Martínez López ",
          "Sriram Raghavan",
          "Steve McQueen",
          "Steven Spielberg",
          "Sudha Kongara",
          "T.J. Gnanavel",
          "Terry George",
          "Thomas Kail",
          "Thomas Vinterberg",
          "Todd Phillips",
          "Tom McCarthy",
          "Wes Anderson",
          "sdd"
         ],
         "y": [
          null,
          75,
          null,
          81,
          83,
          95,
          90,
          89,
          95,
          89,
          null,
          75.14285714285714,
          79,
          88,
          77,
          68,
          79,
          85,
          74.66666666666667,
          91,
          79,
          89,
          88,
          71,
          90,
          98,
          55,
          88,
          79,
          62,
          69,
          73,
          80,
          85,
          null,
          92,
          86,
          79,
          88,
          74.33333333333333,
          71,
          89,
          75,
          78,
          null,
          82,
          57,
          80.5,
          93,
          88,
          79,
          94,
          69,
          91,
          87,
          73,
          67,
          90,
          67,
          85,
          73,
          78,
          73,
          65,
          null,
          96,
          75,
          null,
          null,
          79,
          90,
          77,
          59,
          93,
          88,
          null
         ]
        }
       ],
       "layout": {
        "template": {
         "data": {
          "bar": [
           {
            "error_x": {
             "color": "#2a3f5f"
            },
            "error_y": {
             "color": "#2a3f5f"
            },
            "marker": {
             "line": {
              "color": "#E5ECF6",
              "width": 0.5
             },
             "pattern": {
              "fillmode": "overlay",
              "size": 10,
              "solidity": 0.2
             }
            },
            "type": "bar"
           }
          ],
          "barpolar": [
           {
            "marker": {
             "line": {
              "color": "#E5ECF6",
              "width": 0.5
             },
             "pattern": {
              "fillmode": "overlay",
              "size": 10,
              "solidity": 0.2
             }
            },
            "type": "barpolar"
           }
          ],
          "carpet": [
           {
            "aaxis": {
             "endlinecolor": "#2a3f5f",
             "gridcolor": "white",
             "linecolor": "white",
             "minorgridcolor": "white",
             "startlinecolor": "#2a3f5f"
            },
            "baxis": {
             "endlinecolor": "#2a3f5f",
             "gridcolor": "white",
             "linecolor": "white",
             "minorgridcolor": "white",
             "startlinecolor": "#2a3f5f"
            },
            "type": "carpet"
           }
          ],
          "choropleth": [
           {
            "colorbar": {
             "outlinewidth": 0,
             "ticks": ""
            },
            "type": "choropleth"
           }
          ],
          "contour": [
           {
            "colorbar": {
             "outlinewidth": 0,
             "ticks": ""
            },
            "colorscale": [
             [
              0,
              "#0d0887"
             ],
             [
              0.1111111111111111,
              "#46039f"
             ],
             [
              0.2222222222222222,
              "#7201a8"
             ],
             [
              0.3333333333333333,
              "#9c179e"
             ],
             [
              0.4444444444444444,
              "#bd3786"
             ],
             [
              0.5555555555555556,
              "#d8576b"
             ],
             [
              0.6666666666666666,
              "#ed7953"
             ],
             [
              0.7777777777777778,
              "#fb9f3a"
             ],
             [
              0.8888888888888888,
              "#fdca26"
             ],
             [
              1,
              "#f0f921"
             ]
            ],
            "type": "contour"
           }
          ],
          "contourcarpet": [
           {
            "colorbar": {
             "outlinewidth": 0,
             "ticks": ""
            },
            "type": "contourcarpet"
           }
          ],
          "heatmap": [
           {
            "colorbar": {
             "outlinewidth": 0,
             "ticks": ""
            },
            "colorscale": [
             [
              0,
              "#0d0887"
             ],
             [
              0.1111111111111111,
              "#46039f"
             ],
             [
              0.2222222222222222,
              "#7201a8"
             ],
             [
              0.3333333333333333,
              "#9c179e"
             ],
             [
              0.4444444444444444,
              "#bd3786"
             ],
             [
              0.5555555555555556,
              "#d8576b"
             ],
             [
              0.6666666666666666,
              "#ed7953"
             ],
             [
              0.7777777777777778,
              "#fb9f3a"
             ],
             [
              0.8888888888888888,
              "#fdca26"
             ],
             [
              1,
              "#f0f921"
             ]
            ],
            "type": "heatmap"
           }
          ],
          "heatmapgl": [
           {
            "colorbar": {
             "outlinewidth": 0,
             "ticks": ""
            },
            "colorscale": [
             [
              0,
              "#0d0887"
             ],
             [
              0.1111111111111111,
              "#46039f"
             ],
             [
              0.2222222222222222,
              "#7201a8"
             ],
             [
              0.3333333333333333,
              "#9c179e"
             ],
             [
              0.4444444444444444,
              "#bd3786"
             ],
             [
              0.5555555555555556,
              "#d8576b"
             ],
             [
              0.6666666666666666,
              "#ed7953"
             ],
             [
              0.7777777777777778,
              "#fb9f3a"
             ],
             [
              0.8888888888888888,
              "#fdca26"
             ],
             [
              1,
              "#f0f921"
             ]
            ],
            "type": "heatmapgl"
           }
          ],
          "histogram": [
           {
            "marker": {
             "pattern": {
              "fillmode": "overlay",
              "size": 10,
              "solidity": 0.2
             }
            },
            "type": "histogram"
           }
          ],
          "histogram2d": [
           {
            "colorbar": {
             "outlinewidth": 0,
             "ticks": ""
            },
            "colorscale": [
             [
              0,
              "#0d0887"
             ],
             [
              0.1111111111111111,
              "#46039f"
             ],
             [
              0.2222222222222222,
              "#7201a8"
             ],
             [
              0.3333333333333333,
              "#9c179e"
             ],
             [
              0.4444444444444444,
              "#bd3786"
             ],
             [
              0.5555555555555556,
              "#d8576b"
             ],
             [
              0.6666666666666666,
              "#ed7953"
             ],
             [
              0.7777777777777778,
              "#fb9f3a"
             ],
             [
              0.8888888888888888,
              "#fdca26"
             ],
             [
              1,
              "#f0f921"
             ]
            ],
            "type": "histogram2d"
           }
          ],
          "histogram2dcontour": [
           {
            "colorbar": {
             "outlinewidth": 0,
             "ticks": ""
            },
            "colorscale": [
             [
              0,
              "#0d0887"
             ],
             [
              0.1111111111111111,
              "#46039f"
             ],
             [
              0.2222222222222222,
              "#7201a8"
             ],
             [
              0.3333333333333333,
              "#9c179e"
             ],
             [
              0.4444444444444444,
              "#bd3786"
             ],
             [
              0.5555555555555556,
              "#d8576b"
             ],
             [
              0.6666666666666666,
              "#ed7953"
             ],
             [
              0.7777777777777778,
              "#fb9f3a"
             ],
             [
              0.8888888888888888,
              "#fdca26"
             ],
             [
              1,
              "#f0f921"
             ]
            ],
            "type": "histogram2dcontour"
           }
          ],
          "mesh3d": [
           {
            "colorbar": {
             "outlinewidth": 0,
             "ticks": ""
            },
            "type": "mesh3d"
           }
          ],
          "parcoords": [
           {
            "line": {
             "colorbar": {
              "outlinewidth": 0,
              "ticks": ""
             }
            },
            "type": "parcoords"
           }
          ],
          "pie": [
           {
            "automargin": true,
            "type": "pie"
           }
          ],
          "scatter": [
           {
            "marker": {
             "colorbar": {
              "outlinewidth": 0,
              "ticks": ""
             }
            },
            "type": "scatter"
           }
          ],
          "scatter3d": [
           {
            "line": {
             "colorbar": {
              "outlinewidth": 0,
              "ticks": ""
             }
            },
            "marker": {
             "colorbar": {
              "outlinewidth": 0,
              "ticks": ""
             }
            },
            "type": "scatter3d"
           }
          ],
          "scattercarpet": [
           {
            "marker": {
             "colorbar": {
              "outlinewidth": 0,
              "ticks": ""
             }
            },
            "type": "scattercarpet"
           }
          ],
          "scattergeo": [
           {
            "marker": {
             "colorbar": {
              "outlinewidth": 0,
              "ticks": ""
             }
            },
            "type": "scattergeo"
           }
          ],
          "scattergl": [
           {
            "marker": {
             "colorbar": {
              "outlinewidth": 0,
              "ticks": ""
             }
            },
            "type": "scattergl"
           }
          ],
          "scattermapbox": [
           {
            "marker": {
             "colorbar": {
              "outlinewidth": 0,
              "ticks": ""
             }
            },
            "type": "scattermapbox"
           }
          ],
          "scatterpolar": [
           {
            "marker": {
             "colorbar": {
              "outlinewidth": 0,
              "ticks": ""
             }
            },
            "type": "scatterpolar"
           }
          ],
          "scatterpolargl": [
           {
            "marker": {
             "colorbar": {
              "outlinewidth": 0,
              "ticks": ""
             }
            },
            "type": "scatterpolargl"
           }
          ],
          "scatterternary": [
           {
            "marker": {
             "colorbar": {
              "outlinewidth": 0,
              "ticks": ""
             }
            },
            "type": "scatterternary"
           }
          ],
          "surface": [
           {
            "colorbar": {
             "outlinewidth": 0,
             "ticks": ""
            },
            "colorscale": [
             [
              0,
              "#0d0887"
             ],
             [
              0.1111111111111111,
              "#46039f"
             ],
             [
              0.2222222222222222,
              "#7201a8"
             ],
             [
              0.3333333333333333,
              "#9c179e"
             ],
             [
              0.4444444444444444,
              "#bd3786"
             ],
             [
              0.5555555555555556,
              "#d8576b"
             ],
             [
              0.6666666666666666,
              "#ed7953"
             ],
             [
              0.7777777777777778,
              "#fb9f3a"
             ],
             [
              0.8888888888888888,
              "#fdca26"
             ],
             [
              1,
              "#f0f921"
             ]
            ],
            "type": "surface"
           }
          ],
          "table": [
           {
            "cells": {
             "fill": {
              "color": "#EBF0F8"
             },
             "line": {
              "color": "white"
             }
            },
            "header": {
             "fill": {
              "color": "#C8D4E3"
             },
             "line": {
              "color": "white"
             }
            },
            "type": "table"
           }
          ]
         },
         "layout": {
          "annotationdefaults": {
           "arrowcolor": "#2a3f5f",
           "arrowhead": 0,
           "arrowwidth": 1
          },
          "autotypenumbers": "strict",
          "coloraxis": {
           "colorbar": {
            "outlinewidth": 0,
            "ticks": ""
           }
          },
          "colorscale": {
           "diverging": [
            [
             0,
             "#8e0152"
            ],
            [
             0.1,
             "#c51b7d"
            ],
            [
             0.2,
             "#de77ae"
            ],
            [
             0.3,
             "#f1b6da"
            ],
            [
             0.4,
             "#fde0ef"
            ],
            [
             0.5,
             "#f7f7f7"
            ],
            [
             0.6,
             "#e6f5d0"
            ],
            [
             0.7,
             "#b8e186"
            ],
            [
             0.8,
             "#7fbc41"
            ],
            [
             0.9,
             "#4d9221"
            ],
            [
             1,
             "#276419"
            ]
           ],
           "sequential": [
            [
             0,
             "#0d0887"
            ],
            [
             0.1111111111111111,
             "#46039f"
            ],
            [
             0.2222222222222222,
             "#7201a8"
            ],
            [
             0.3333333333333333,
             "#9c179e"
            ],
            [
             0.4444444444444444,
             "#bd3786"
            ],
            [
             0.5555555555555556,
             "#d8576b"
            ],
            [
             0.6666666666666666,
             "#ed7953"
            ],
            [
             0.7777777777777778,
             "#fb9f3a"
            ],
            [
             0.8888888888888888,
             "#fdca26"
            ],
            [
             1,
             "#f0f921"
            ]
           ],
           "sequentialminus": [
            [
             0,
             "#0d0887"
            ],
            [
             0.1111111111111111,
             "#46039f"
            ],
            [
             0.2222222222222222,
             "#7201a8"
            ],
            [
             0.3333333333333333,
             "#9c179e"
            ],
            [
             0.4444444444444444,
             "#bd3786"
            ],
            [
             0.5555555555555556,
             "#d8576b"
            ],
            [
             0.6666666666666666,
             "#ed7953"
            ],
            [
             0.7777777777777778,
             "#fb9f3a"
            ],
            [
             0.8888888888888888,
             "#fdca26"
            ],
            [
             1,
             "#f0f921"
            ]
           ]
          },
          "colorway": [
           "#636efa",
           "#EF553B",
           "#00cc96",
           "#ab63fa",
           "#FFA15A",
           "#19d3f3",
           "#FF6692",
           "#B6E880",
           "#FF97FF",
           "#FECB52"
          ],
          "font": {
           "color": "#2a3f5f"
          },
          "geo": {
           "bgcolor": "white",
           "lakecolor": "white",
           "landcolor": "#E5ECF6",
           "showlakes": true,
           "showland": true,
           "subunitcolor": "white"
          },
          "hoverlabel": {
           "align": "left"
          },
          "hovermode": "closest",
          "mapbox": {
           "style": "light"
          },
          "paper_bgcolor": "white",
          "plot_bgcolor": "#E5ECF6",
          "polar": {
           "angularaxis": {
            "gridcolor": "white",
            "linecolor": "white",
            "ticks": ""
           },
           "bgcolor": "#E5ECF6",
           "radialaxis": {
            "gridcolor": "white",
            "linecolor": "white",
            "ticks": ""
           }
          },
          "scene": {
           "xaxis": {
            "backgroundcolor": "#E5ECF6",
            "gridcolor": "white",
            "gridwidth": 2,
            "linecolor": "white",
            "showbackground": true,
            "ticks": "",
            "zerolinecolor": "white"
           },
           "yaxis": {
            "backgroundcolor": "#E5ECF6",
            "gridcolor": "white",
            "gridwidth": 2,
            "linecolor": "white",
            "showbackground": true,
            "ticks": "",
            "zerolinecolor": "white"
           },
           "zaxis": {
            "backgroundcolor": "#E5ECF6",
            "gridcolor": "white",
            "gridwidth": 2,
            "linecolor": "white",
            "showbackground": true,
            "ticks": "",
            "zerolinecolor": "white"
           }
          },
          "shapedefaults": {
           "line": {
            "color": "#2a3f5f"
           }
          },
          "ternary": {
           "aaxis": {
            "gridcolor": "white",
            "linecolor": "white",
            "ticks": ""
           },
           "baxis": {
            "gridcolor": "white",
            "linecolor": "white",
            "ticks": ""
           },
           "bgcolor": "#E5ECF6",
           "caxis": {
            "gridcolor": "white",
            "linecolor": "white",
            "ticks": ""
           }
          },
          "title": {
           "x": 0.05
          },
          "xaxis": {
           "automargin": true,
           "gridcolor": "white",
           "linecolor": "white",
           "ticks": "",
           "title": {
            "standoff": 15
           },
           "zerolinecolor": "white",
           "zerolinewidth": 2
          },
          "yaxis": {
           "automargin": true,
           "gridcolor": "white",
           "linecolor": "white",
           "ticks": "",
           "title": {
            "standoff": 15
           },
           "zerolinecolor": "white",
           "zerolinewidth": 2
          }
         }
        },
        "title": {
         "text": "Directors with the most Critic's recognition"
        },
        "xaxis": {
         "showticklabels": false,
         "title": {
          "text": "Directors"
         }
        },
        "yaxis": {
         "title": {
          "text": "Total Metascore"
         }
        }
       }
      }
     },
     "metadata": {},
     "output_type": "display_data"
    }
   ],
   "source": [
    "# Scatter plot\n",
    "\n",
    "fig = go.Figure(data=[go.Scatter(\n",
    "    x=flat.Director, y=critic_num,\n",
    "    mode='markers', \n",
    "    marker_size= critic_norm*20,\n",
    ")])\n",
    "fig.update_layout(\n",
    "    title= \"Directors with the most Critic's recognition\",\n",
    "    yaxis_title=\"Total Metascore\",\n",
    "    xaxis_title=\"Directors\"\n",
    ")\n",
    "\n",
    "fig.update_xaxes(showticklabels=False) # hide all the xticks\n",
    "fig.show()"
   ]
  },
  {
   "cell_type": "markdown",
   "metadata": {},
   "source": [
    "### Popular movies - By Motion picture rating (MPAA)"
   ]
  },
  {
   "cell_type": "code",
   "execution_count": 99,
   "metadata": {},
   "outputs": [
    {
     "data": {
      "text/html": [
       "<div>\n",
       "<style scoped>\n",
       "    .dataframe tbody tr th:only-of-type {\n",
       "        vertical-align: middle;\n",
       "    }\n",
       "\n",
       "    .dataframe tbody tr th {\n",
       "        vertical-align: top;\n",
       "    }\n",
       "\n",
       "    .dataframe thead th {\n",
       "        text-align: right;\n",
       "    }\n",
       "</style>\n",
       "<table border=\"1\" class=\"dataframe\">\n",
       "  <thead>\n",
       "    <tr style=\"text-align: right;\">\n",
       "      <th></th>\n",
       "      <th>Motion picture rating (MPAA)</th>\n",
       "      <th>Critics rating</th>\n",
       "      <th>Gross [millions]</th>\n",
       "    </tr>\n",
       "  </thead>\n",
       "  <tbody>\n",
       "    <tr>\n",
       "      <th>0</th>\n",
       "      <td>G</td>\n",
       "      <td>8.180000</td>\n",
       "      <td>327.392500</td>\n",
       "    </tr>\n",
       "    <tr>\n",
       "      <th>1</th>\n",
       "      <td>Not Rated</td>\n",
       "      <td>8.187500</td>\n",
       "      <td>3.945000</td>\n",
       "    </tr>\n",
       "    <tr>\n",
       "      <th>2</th>\n",
       "      <td>PG</td>\n",
       "      <td>8.281818</td>\n",
       "      <td>129.075000</td>\n",
       "    </tr>\n",
       "    <tr>\n",
       "      <th>3</th>\n",
       "      <td>PG-13</td>\n",
       "      <td>8.387500</td>\n",
       "      <td>255.573810</td>\n",
       "    </tr>\n",
       "    <tr>\n",
       "      <th>4</th>\n",
       "      <td>R</td>\n",
       "      <td>8.252174</td>\n",
       "      <td>65.866087</td>\n",
       "    </tr>\n",
       "    <tr>\n",
       "      <th>5</th>\n",
       "      <td>TV-MA</td>\n",
       "      <td>9.100000</td>\n",
       "      <td>NaN</td>\n",
       "    </tr>\n",
       "  </tbody>\n",
       "</table>\n",
       "</div>"
      ],
      "text/plain": [
       "  Motion picture rating (MPAA)  Critics rating  Gross [millions]\n",
       "0                            G        8.180000        327.392500\n",
       "1                    Not Rated        8.187500          3.945000\n",
       "2                           PG        8.281818        129.075000\n",
       "3                        PG-13        8.387500        255.573810\n",
       "4                            R        8.252174         65.866087\n",
       "5                        TV-MA        9.100000               NaN"
      ]
     },
     "execution_count": 99,
     "metadata": {},
     "output_type": "execute_result"
    }
   ],
   "source": [
    "age_ = pd.pivot_table(df, values=['Gross [millions]','Critics rating'], index=['Motion picture rating (MPAA)'],aggfunc={'Critics rating': np.mean,\n",
    "                                                                                                                         'Gross [millions]': np.mean})\n",
    "age_flat = pd.DataFrame(age_.to_records())\n",
    "age_flat"
   ]
  },
  {
   "cell_type": "code",
   "execution_count": 33,
   "metadata": {},
   "outputs": [
    {
     "data": {
      "text/plain": [
       "Text(0.5, 1.0, 'Gross Income and MPAA Rating')"
      ]
     },
     "execution_count": 33,
     "metadata": {},
     "output_type": "execute_result"
    },
    {
     "data": {
      "image/png": "[encoded data removed]",
      "text/plain": [
       "<Figure size 432x288 with 1 Axes>"
      ]
     },
     "metadata": {
      "needs_background": "light"
     },
     "output_type": "display_data"
    }
   ],
   "source": [
    "# Correlation between MPAA rating and gross income\n",
    "\n",
    "plt.bar(age_flat[\"Motion picture rating (MPAA)\"], age_flat[\"Gross [millions]\"])\n",
    "plt.title(\"Gross Income and MPAA Rating\")"
   ]
  },
  {
   "cell_type": "code",
   "execution_count": 34,
   "metadata": {},
   "outputs": [
    {
     "data": {
      "text/plain": [
       "Text(0.5, 1.0, 'Metascore and MPAA Rating')"
      ]
     },
     "execution_count": 34,
     "metadata": {},
     "output_type": "execute_result"
    },
    {
     "data": {
      "image/png": "[encoded data removed]",
      "text/plain": [
       "<Figure size 432x288 with 1 Axes>"
      ]
     },
     "metadata": {
      "needs_background": "light"
     },
     "output_type": "display_data"
    }
   ],
   "source": [
    "# Correlation between critics rating variation by MPAA rating\n",
    "\n",
    "plt.plot(age_flat[\"Motion picture rating (MPAA)\"], age_flat[\"Critics rating\"], linestyle=\"-\", marker=\"o\")\n",
    "plt.title(\"Metascore and MPAA Rating\")"
   ]
  }
 ],
 "metadata": {
  "interpreter": {
   "hash": "aee8b7b246df8f9039afb4144a1f6fd8d2ca17a180786b69acc140d282b71a49"
  },
  "kernelspec": {
   "display_name": "Python 3 (ipykernel)",
   "language": "python",
   "name": "python3"
  },
  "language_info": {
   "codemirror_mode": {
    "name": "ipython",
    "version": 3
   },
   "file_extension": ".py",
   "mimetype": "text/x-python",
   "name": "python",
   "nbconvert_exporter": "python",
   "pygments_lexer": "ipython3",
   "version": "3.8.12"
  }
 },
 "nbformat": 4,
 "nbformat_minor": 2
}
